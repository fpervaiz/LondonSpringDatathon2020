{
 "nbformat": 4,
 "nbformat_minor": 2,
 "metadata": {
  "language_info": {
   "name": "python",
   "codemirror_mode": {
    "name": "ipython",
    "version": 3
   },
   "version": "3.8.1-final"
  },
  "orig_nbformat": 2,
  "file_extension": ".py",
  "mimetype": "text/x-python",
  "name": "python",
  "npconvert_exporter": "python",
  "pygments_lexer": "ipython3",
  "version": 3,
  "kernelspec": {
   "name": "python38164bitb904b6b1fa3c45a8ad1ff8399500dac0",
   "display_name": "Python 3.8.1 64-bit"
  }
 },
 "cells": [
  {
   "cell_type": "code",
   "execution_count": 1,
   "metadata": {},
   "outputs": [],
   "source": [
    "import pandas as pd\n",
    "import numpy as np\n",
    "import math\n",
    "import matplotlib as plt\n",
    "import pdpipe as pdp"
   ]
  },
  {
   "cell_type": "code",
   "execution_count": 3,
   "metadata": {},
   "outputs": [
    {
     "data": {
      "text/html": "<div>\n<style scoped>\n    .dataframe tbody tr th:only-of-type {\n        vertical-align: middle;\n    }\n\n    .dataframe tbody tr th {\n        vertical-align: top;\n    }\n\n    .dataframe thead th {\n        text-align: right;\n    }\n</style>\n<table border=\"1\" class=\"dataframe\">\n  <thead>\n    <tr style=\"text-align: right;\">\n      <th></th>\n      <th>pickup_datetime</th>\n      <th>dropoff_datetime</th>\n      <th>passenger_count</th>\n      <th>trip_distance</th>\n      <th>pickup_longitude</th>\n      <th>pickup_latitude</th>\n      <th>dropoff_longitude</th>\n      <th>dropoff_latitude</th>\n      <th>pickup_location_id</th>\n      <th>dropoff_location_id</th>\n      <th>total_amount</th>\n    </tr>\n  </thead>\n  <tbody>\n    <tr>\n      <th>0</th>\n      <td>06-29-13 08:19:47</td>\n      <td>06-29-13 08:28:17</td>\n      <td>2</td>\n      <td>1.70</td>\n      <td>-73.995376</td>\n      <td>40.739316</td>\n      <td>-74.000997</td>\n      <td>40.721095</td>\n      <td>NaN</td>\n      <td>NaN</td>\n      <td>10.0</td>\n    </tr>\n    <tr>\n      <th>1</th>\n      <td>06-06-13 14:17:18</td>\n      <td>06-06-13 14:44:42</td>\n      <td>1</td>\n      <td>2.30</td>\n      <td>-73.977356</td>\n      <td>40.754204</td>\n      <td>-74.002716</td>\n      <td>40.734031</td>\n      <td>NaN</td>\n      <td>NaN</td>\n      <td>18.0</td>\n    </tr>\n    <tr>\n      <th>2</th>\n      <td>06-29-13 20:46:00</td>\n      <td>06-29-13 20:59:00</td>\n      <td>2</td>\n      <td>4.58</td>\n      <td>-73.966770</td>\n      <td>40.804120</td>\n      <td>-73.991645</td>\n      <td>40.758342</td>\n      <td>NaN</td>\n      <td>NaN</td>\n      <td>17.0</td>\n    </tr>\n    <tr>\n      <th>3</th>\n      <td>06-25-13 09:50:00</td>\n      <td>06-25-13 10:09:00</td>\n      <td>1</td>\n      <td>2.84</td>\n      <td>-73.960547</td>\n      <td>40.760512</td>\n      <td>-73.991325</td>\n      <td>40.751655</td>\n      <td>NaN</td>\n      <td>NaN</td>\n      <td>18.5</td>\n    </tr>\n    <tr>\n      <th>4</th>\n      <td>06-29-13 08:42:00</td>\n      <td>06-29-13 08:52:00</td>\n      <td>1</td>\n      <td>2.63</td>\n      <td>-74.004345</td>\n      <td>40.707710</td>\n      <td>-73.997462</td>\n      <td>40.736542</td>\n      <td>NaN</td>\n      <td>NaN</td>\n      <td>11.0</td>\n    </tr>\n  </tbody>\n</table>\n</div>",
      "text/plain": "     pickup_datetime   dropoff_datetime  passenger_count  trip_distance  \\\n0  06-29-13 08:19:47  06-29-13 08:28:17                2           1.70   \n1  06-06-13 14:17:18  06-06-13 14:44:42                1           2.30   \n2  06-29-13 20:46:00  06-29-13 20:59:00                2           4.58   \n3  06-25-13 09:50:00  06-25-13 10:09:00                1           2.84   \n4  06-29-13 08:42:00  06-29-13 08:52:00                1           2.63   \n\n   pickup_longitude  pickup_latitude  dropoff_longitude  dropoff_latitude  \\\n0        -73.995376        40.739316         -74.000997         40.721095   \n1        -73.977356        40.754204         -74.002716         40.734031   \n2        -73.966770        40.804120         -73.991645         40.758342   \n3        -73.960547        40.760512         -73.991325         40.751655   \n4        -74.004345        40.707710         -73.997462         40.736542   \n\n   pickup_location_id  dropoff_location_id  total_amount  \n0                 NaN                  NaN          10.0  \n1                 NaN                  NaN          18.0  \n2                 NaN                  NaN          17.0  \n3                 NaN                  NaN          18.5  \n4                 NaN                  NaN          11.0  "
     },
     "execution_count": 3,
     "metadata": {},
     "output_type": "execute_result"
    }
   ],
   "source": [
    "yellow_name = \"Data/nyc_yellow_taxi\"\n",
    "\n",
    "original_yellow = pd.read_csv(yellow_name+\".csv\")\n",
    "yellow = original_yellow\n",
    "yellow.head()"
   ]
  },
  {
   "cell_type": "code",
   "execution_count": 4,
   "metadata": {},
   "outputs": [
    {
     "data": {
      "text/html": "<div>\n<style scoped>\n    .dataframe tbody tr th:only-of-type {\n        vertical-align: middle;\n    }\n\n    .dataframe tbody tr th {\n        vertical-align: top;\n    }\n\n    .dataframe thead th {\n        text-align: right;\n    }\n</style>\n<table border=\"1\" class=\"dataframe\">\n  <thead>\n    <tr style=\"text-align: right;\">\n      <th></th>\n      <th>pickup_datetime</th>\n      <th>dropoff_datetime</th>\n      <th>passenger_count</th>\n      <th>trip_distance</th>\n      <th>pickup_longitude</th>\n      <th>pickup_latitude</th>\n      <th>dropoff_longitude</th>\n      <th>dropoff_latitude</th>\n      <th>pickup_location_id</th>\n      <th>dropoff_location_id</th>\n      <th>total_amount</th>\n    </tr>\n  </thead>\n  <tbody>\n    <tr>\n      <th>0</th>\n      <td>06-29-13 08:19:47</td>\n      <td>06-29-13 08:28:17</td>\n      <td>2</td>\n      <td>1.70</td>\n      <td>-73.995376</td>\n      <td>40.739316</td>\n      <td>-74.000997</td>\n      <td>40.721095</td>\n      <td>NaN</td>\n      <td>NaN</td>\n      <td>10.0</td>\n    </tr>\n    <tr>\n      <th>1</th>\n      <td>06-06-13 14:17:18</td>\n      <td>06-06-13 14:44:42</td>\n      <td>1</td>\n      <td>2.30</td>\n      <td>-73.977356</td>\n      <td>40.754204</td>\n      <td>-74.002716</td>\n      <td>40.734031</td>\n      <td>NaN</td>\n      <td>NaN</td>\n      <td>18.0</td>\n    </tr>\n    <tr>\n      <th>2</th>\n      <td>06-29-13 20:46:00</td>\n      <td>06-29-13 20:59:00</td>\n      <td>2</td>\n      <td>4.58</td>\n      <td>-73.966770</td>\n      <td>40.804120</td>\n      <td>-73.991645</td>\n      <td>40.758342</td>\n      <td>NaN</td>\n      <td>NaN</td>\n      <td>17.0</td>\n    </tr>\n    <tr>\n      <th>3</th>\n      <td>06-25-13 09:50:00</td>\n      <td>06-25-13 10:09:00</td>\n      <td>1</td>\n      <td>2.84</td>\n      <td>-73.960547</td>\n      <td>40.760512</td>\n      <td>-73.991325</td>\n      <td>40.751655</td>\n      <td>NaN</td>\n      <td>NaN</td>\n      <td>18.5</td>\n    </tr>\n    <tr>\n      <th>4</th>\n      <td>06-29-13 08:42:00</td>\n      <td>06-29-13 08:52:00</td>\n      <td>1</td>\n      <td>2.63</td>\n      <td>-74.004345</td>\n      <td>40.707710</td>\n      <td>-73.997462</td>\n      <td>40.736542</td>\n      <td>NaN</td>\n      <td>NaN</td>\n      <td>11.0</td>\n    </tr>\n  </tbody>\n</table>\n</div>",
      "text/plain": "     pickup_datetime   dropoff_datetime  passenger_count  trip_distance  \\\n0  06-29-13 08:19:47  06-29-13 08:28:17                2           1.70   \n1  06-06-13 14:17:18  06-06-13 14:44:42                1           2.30   \n2  06-29-13 20:46:00  06-29-13 20:59:00                2           4.58   \n3  06-25-13 09:50:00  06-25-13 10:09:00                1           2.84   \n4  06-29-13 08:42:00  06-29-13 08:52:00                1           2.63   \n\n   pickup_longitude  pickup_latitude  dropoff_longitude  dropoff_latitude  \\\n0        -73.995376        40.739316         -74.000997         40.721095   \n1        -73.977356        40.754204         -74.002716         40.734031   \n2        -73.966770        40.804120         -73.991645         40.758342   \n3        -73.960547        40.760512         -73.991325         40.751655   \n4        -74.004345        40.707710         -73.997462         40.736542   \n\n   pickup_location_id  dropoff_location_id  total_amount  \n0                 NaN                  NaN          10.0  \n1                 NaN                  NaN          18.0  \n2                 NaN                  NaN          17.0  \n3                 NaN                  NaN          18.5  \n4                 NaN                  NaN          11.0  "
     },
     "execution_count": 4,
     "metadata": {},
     "output_type": "execute_result"
    }
   ],
   "source": [
    "pipe = pdp.DropNa(subset=[\"pickup_longitude\",\"pickup_latitude\",\"dropoff_longitude\",\"dropoff_latitude\"])\n",
    "pipe += pdp.RowDrop({\"trip_distance\": lambda d : d<=0})\n",
    "\n",
    "yellow = pipe(yellow)\n",
    "yellow.head()"
   ]
  },
  {
   "cell_type": "code",
   "execution_count": 5,
   "metadata": {},
   "outputs": [
    {
     "data": {
      "text/plain": "(4759929, 11)"
     },
     "execution_count": 5,
     "metadata": {},
     "output_type": "execute_result"
    }
   ],
   "source": [
    "yellow.shape"
   ]
  },
  {
   "cell_type": "code",
   "execution_count": null,
   "metadata": {},
   "outputs": [],
   "source": []
  }
 ]
}