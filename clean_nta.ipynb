{
 "cells": [
  {
   "cell_type": "code",
   "execution_count": 68,
   "metadata": {},
   "outputs": [],
   "source": [
    "import pandas as pd\n",
    "import numpy as np\n",
    "import math\n",
    "import matplotlib.pyplot as plt\n",
    "import pdpipe as pdp\n",
    "import geopandas as gpd\n",
    "import descartes\n",
    "\n",
    "from shapely.geometry import Point, Polygon, MultiPolygon"
   ]
  },
  {
   "cell_type": "code",
   "execution_count": 69,
   "metadata": {},
   "outputs": [
    {
     "data": {
      "text/html": "<div>\n<style scoped>\n    .dataframe tbody tr th:only-of-type {\n        vertical-align: middle;\n    }\n\n    .dataframe tbody tr th {\n        vertical-align: top;\n    }\n\n    .dataframe thead th {\n        text-align: right;\n    }\n</style>\n<table border=\"1\" class=\"dataframe\">\n  <thead>\n    <tr style=\"text-align: right;\">\n      <th></th>\n      <th>nta_name</th>\n      <th>borough</th>\n      <th>nta_code</th>\n      <th>population</th>\n      <th>under_5_years</th>\n      <th>5-9_years</th>\n      <th>10-14_years</th>\n      <th>15-19_years</th>\n      <th>20-24_years</th>\n      <th>25-29_years</th>\n      <th>...</th>\n      <th>15000_to_24999</th>\n      <th>25000_to_34999</th>\n      <th>35000_to_49999</th>\n      <th>50000_to_74999</th>\n      <th>75000_to_99999</th>\n      <th>100000_to_149999</th>\n      <th>150000_to_199999</th>\n      <th>200000_or_more</th>\n      <th>median_income</th>\n      <th>mean_income</th>\n    </tr>\n  </thead>\n  <tbody>\n    <tr>\n      <th>0</th>\n      <td>Bath Beach</td>\n      <td>Brooklyn</td>\n      <td>BK27</td>\n      <td>33163</td>\n      <td>2210</td>\n      <td>1826</td>\n      <td>1922</td>\n      <td>1657</td>\n      <td>1726</td>\n      <td>2850</td>\n      <td>...</td>\n      <td>1223</td>\n      <td>927</td>\n      <td>1290</td>\n      <td>2074</td>\n      <td>1352</td>\n      <td>1758</td>\n      <td>706</td>\n      <td>585</td>\n      <td>58243.0</td>\n      <td>75950.0</td>\n    </tr>\n    <tr>\n      <th>1</th>\n      <td>Bay Ridge</td>\n      <td>Brooklyn</td>\n      <td>BK31</td>\n      <td>79134</td>\n      <td>5166</td>\n      <td>4513</td>\n      <td>3379</td>\n      <td>3551</td>\n      <td>4347</td>\n      <td>6827</td>\n      <td>...</td>\n      <td>3235</td>\n      <td>3047</td>\n      <td>3542</td>\n      <td>5570</td>\n      <td>4108</td>\n      <td>4827</td>\n      <td>2497</td>\n      <td>2775</td>\n      <td>63539.0</td>\n      <td>86319.0</td>\n    </tr>\n    <tr>\n      <th>2</th>\n      <td>Bedford</td>\n      <td>Brooklyn</td>\n      <td>BK75</td>\n      <td>75318</td>\n      <td>7480</td>\n      <td>6580</td>\n      <td>5378</td>\n      <td>4635</td>\n      <td>6479</td>\n      <td>8683</td>\n      <td>...</td>\n      <td>3385</td>\n      <td>2509</td>\n      <td>3124</td>\n      <td>3706</td>\n      <td>2269</td>\n      <td>2847</td>\n      <td>1195</td>\n      <td>1034</td>\n      <td>39970.0</td>\n      <td>62616.0</td>\n    </tr>\n    <tr>\n      <th>3</th>\n      <td>Bensonhurst East</td>\n      <td>Brooklyn</td>\n      <td>BK29</td>\n      <td>64267</td>\n      <td>4151</td>\n      <td>3563</td>\n      <td>2891</td>\n      <td>3470</td>\n      <td>4182</td>\n      <td>4939</td>\n      <td>...</td>\n      <td>2718</td>\n      <td>2185</td>\n      <td>2655</td>\n      <td>3898</td>\n      <td>2558</td>\n      <td>2416</td>\n      <td>1144</td>\n      <td>844</td>\n      <td>48097.0</td>\n      <td>65715.0</td>\n    </tr>\n    <tr>\n      <th>4</th>\n      <td>Bensonhurst West</td>\n      <td>Brooklyn</td>\n      <td>BK28</td>\n      <td>91646</td>\n      <td>6498</td>\n      <td>5162</td>\n      <td>4529</td>\n      <td>4648</td>\n      <td>5793</td>\n      <td>8036</td>\n      <td>...</td>\n      <td>3383</td>\n      <td>3246</td>\n      <td>4036</td>\n      <td>5117</td>\n      <td>3428</td>\n      <td>3743</td>\n      <td>1649</td>\n      <td>1231</td>\n      <td>51035.0</td>\n      <td>70198.0</td>\n    </tr>\n  </tbody>\n</table>\n<p>5 rows × 32 columns</p>\n</div>",
      "text/plain": "           nta_name   borough nta_code  population  under_5_years  5-9_years  \\\n0        Bath Beach  Brooklyn     BK27       33163           2210       1826   \n1         Bay Ridge  Brooklyn     BK31       79134           5166       4513   \n2           Bedford  Brooklyn     BK75       75318           7480       6580   \n3  Bensonhurst East  Brooklyn     BK29       64267           4151       3563   \n4  Bensonhurst West  Brooklyn     BK28       91646           6498       5162   \n\n   10-14_years  15-19_years  20-24_years  25-29_years  ...  15000_to_24999  \\\n0         1922         1657         1726         2850  ...            1223   \n1         3379         3551         4347         6827  ...            3235   \n2         5378         4635         6479         8683  ...            3385   \n3         2891         3470         4182         4939  ...            2718   \n4         4529         4648         5793         8036  ...            3383   \n\n   25000_to_34999  35000_to_49999  50000_to_74999  75000_to_99999  \\\n0             927            1290            2074            1352   \n1            3047            3542            5570            4108   \n2            2509            3124            3706            2269   \n3            2185            2655            3898            2558   \n4            3246            4036            5117            3428   \n\n   100000_to_149999  150000_to_199999  200000_or_more  median_income  \\\n0              1758               706             585        58243.0   \n1              4827              2497            2775        63539.0   \n2              2847              1195            1034        39970.0   \n3              2416              1144             844        48097.0   \n4              3743              1649            1231        51035.0   \n\n   mean_income  \n0      75950.0  \n1      86319.0  \n2      62616.0  \n3      65715.0  \n4      70198.0  \n\n[5 rows x 32 columns]"
     },
     "execution_count": 69,
     "metadata": {},
     "output_type": "execute_result"
    }
   ],
   "source": [
    "name_main = \"Data/demographics\"\n",
    "\n",
    "original_nta = pd.read_csv(name_main+\".csv\")\n",
    "nta = original_nta\n",
    "nta.head()"
   ]
  },
  {
   "cell_type": "code",
   "execution_count": 70,
   "metadata": {},
   "outputs": [
    {
     "data": {
      "text/html": "<div>\n<style scoped>\n    .dataframe tbody tr th:only-of-type {\n        vertical-align: middle;\n    }\n\n    .dataframe tbody tr th {\n        vertical-align: top;\n    }\n\n    .dataframe thead th {\n        text-align: right;\n    }\n</style>\n<table border=\"1\" class=\"dataframe\">\n  <thead>\n    <tr style=\"text-align: right;\">\n      <th></th>\n      <th>borough</th>\n      <th>population</th>\n      <th>under_5_years</th>\n      <th>5-9_years</th>\n      <th>10-14_years</th>\n      <th>15-19_years</th>\n      <th>20-24_years</th>\n      <th>25-29_years</th>\n      <th>30-34_years</th>\n      <th>35-39_years</th>\n      <th>...</th>\n      <th>15000_to_24999</th>\n      <th>25000_to_34999</th>\n      <th>35000_to_49999</th>\n      <th>50000_to_74999</th>\n      <th>75000_to_99999</th>\n      <th>100000_to_149999</th>\n      <th>150000_to_199999</th>\n      <th>200000_or_more</th>\n      <th>median_income</th>\n      <th>mean_income</th>\n    </tr>\n    <tr>\n      <th>nta_code</th>\n      <th></th>\n      <th></th>\n      <th></th>\n      <th></th>\n      <th></th>\n      <th></th>\n      <th></th>\n      <th></th>\n      <th></th>\n      <th></th>\n      <th></th>\n      <th></th>\n      <th></th>\n      <th></th>\n      <th></th>\n      <th></th>\n      <th></th>\n      <th></th>\n      <th></th>\n      <th></th>\n      <th></th>\n    </tr>\n  </thead>\n  <tbody>\n    <tr>\n      <th>BK27</th>\n      <td>Brooklyn</td>\n      <td>33163</td>\n      <td>2210</td>\n      <td>1826</td>\n      <td>1922</td>\n      <td>1657</td>\n      <td>1726</td>\n      <td>2850</td>\n      <td>2771</td>\n      <td>2442</td>\n      <td>...</td>\n      <td>1223</td>\n      <td>927</td>\n      <td>1290</td>\n      <td>2074</td>\n      <td>1352</td>\n      <td>1758</td>\n      <td>706</td>\n      <td>585</td>\n      <td>58243.0</td>\n      <td>75950.0</td>\n    </tr>\n    <tr>\n      <th>BK31</th>\n      <td>Brooklyn</td>\n      <td>79134</td>\n      <td>5166</td>\n      <td>4513</td>\n      <td>3379</td>\n      <td>3551</td>\n      <td>4347</td>\n      <td>6827</td>\n      <td>6876</td>\n      <td>5459</td>\n      <td>...</td>\n      <td>3235</td>\n      <td>3047</td>\n      <td>3542</td>\n      <td>5570</td>\n      <td>4108</td>\n      <td>4827</td>\n      <td>2497</td>\n      <td>2775</td>\n      <td>63539.0</td>\n      <td>86319.0</td>\n    </tr>\n    <tr>\n      <th>BK75</th>\n      <td>Brooklyn</td>\n      <td>75318</td>\n      <td>7480</td>\n      <td>6580</td>\n      <td>5378</td>\n      <td>4635</td>\n      <td>6479</td>\n      <td>8683</td>\n      <td>6984</td>\n      <td>5586</td>\n      <td>...</td>\n      <td>3385</td>\n      <td>2509</td>\n      <td>3124</td>\n      <td>3706</td>\n      <td>2269</td>\n      <td>2847</td>\n      <td>1195</td>\n      <td>1034</td>\n      <td>39970.0</td>\n      <td>62616.0</td>\n    </tr>\n    <tr>\n      <th>BK29</th>\n      <td>Brooklyn</td>\n      <td>64267</td>\n      <td>4151</td>\n      <td>3563</td>\n      <td>2891</td>\n      <td>3470</td>\n      <td>4182</td>\n      <td>4939</td>\n      <td>4634</td>\n      <td>4677</td>\n      <td>...</td>\n      <td>2718</td>\n      <td>2185</td>\n      <td>2655</td>\n      <td>3898</td>\n      <td>2558</td>\n      <td>2416</td>\n      <td>1144</td>\n      <td>844</td>\n      <td>48097.0</td>\n      <td>65715.0</td>\n    </tr>\n    <tr>\n      <th>BK28</th>\n      <td>Brooklyn</td>\n      <td>91646</td>\n      <td>6498</td>\n      <td>5162</td>\n      <td>4529</td>\n      <td>4648</td>\n      <td>5793</td>\n      <td>8036</td>\n      <td>7766</td>\n      <td>5917</td>\n      <td>...</td>\n      <td>3383</td>\n      <td>3246</td>\n      <td>4036</td>\n      <td>5117</td>\n      <td>3428</td>\n      <td>3743</td>\n      <td>1649</td>\n      <td>1231</td>\n      <td>51035.0</td>\n      <td>70198.0</td>\n    </tr>\n    <tr>\n      <th>...</th>\n      <td>...</td>\n      <td>...</td>\n      <td>...</td>\n      <td>...</td>\n      <td>...</td>\n      <td>...</td>\n      <td>...</td>\n      <td>...</td>\n      <td>...</td>\n      <td>...</td>\n      <td>...</td>\n      <td>...</td>\n      <td>...</td>\n      <td>...</td>\n      <td>...</td>\n      <td>...</td>\n      <td>...</td>\n      <td>...</td>\n      <td>...</td>\n      <td>...</td>\n      <td>...</td>\n    </tr>\n    <tr>\n      <th>BX63</th>\n      <td>The Bronx</td>\n      <td>37395</td>\n      <td>2751</td>\n      <td>3214</td>\n      <td>2731</td>\n      <td>2623</td>\n      <td>3367</td>\n      <td>3216</td>\n      <td>2866</td>\n      <td>2207</td>\n      <td>...</td>\n      <td>2170</td>\n      <td>1714</td>\n      <td>1713</td>\n      <td>1872</td>\n      <td>849</td>\n      <td>525</td>\n      <td>70</td>\n      <td>100</td>\n      <td>26520.0</td>\n      <td>37550.0</td>\n    </tr>\n    <tr>\n      <th>BX08</th>\n      <td>The Bronx</td>\n      <td>35752</td>\n      <td>2740</td>\n      <td>2706</td>\n      <td>2625</td>\n      <td>2266</td>\n      <td>2954</td>\n      <td>2996</td>\n      <td>2592</td>\n      <td>2682</td>\n      <td>...</td>\n      <td>1856</td>\n      <td>1570</td>\n      <td>1587</td>\n      <td>1698</td>\n      <td>932</td>\n      <td>660</td>\n      <td>182</td>\n      <td>35</td>\n      <td>29306.0</td>\n      <td>39917.0</td>\n    </tr>\n    <tr>\n      <th>BX59</th>\n      <td>The Bronx</td>\n      <td>28437</td>\n      <td>2281</td>\n      <td>1640</td>\n      <td>1644</td>\n      <td>1942</td>\n      <td>2668</td>\n      <td>2526</td>\n      <td>1908</td>\n      <td>1867</td>\n      <td>...</td>\n      <td>1064</td>\n      <td>994</td>\n      <td>986</td>\n      <td>1628</td>\n      <td>1172</td>\n      <td>885</td>\n      <td>217</td>\n      <td>289</td>\n      <td>43412.0</td>\n      <td>57590.0</td>\n    </tr>\n    <tr>\n      <th>BX44</th>\n      <td>The Bronx</td>\n      <td>65043</td>\n      <td>4887</td>\n      <td>4199</td>\n      <td>4395</td>\n      <td>4717</td>\n      <td>5485</td>\n      <td>4864</td>\n      <td>4214</td>\n      <td>4058</td>\n      <td>...</td>\n      <td>2646</td>\n      <td>2282</td>\n      <td>3176</td>\n      <td>3787</td>\n      <td>1936</td>\n      <td>2326</td>\n      <td>597</td>\n      <td>297</td>\n      <td>40791.0</td>\n      <td>53405.0</td>\n    </tr>\n    <tr>\n      <th>BX62</th>\n      <td>The Bronx</td>\n      <td>44064</td>\n      <td>2467</td>\n      <td>2372</td>\n      <td>2715</td>\n      <td>2511</td>\n      <td>3356</td>\n      <td>3822</td>\n      <td>2600</td>\n      <td>2802</td>\n      <td>...</td>\n      <td>1061</td>\n      <td>1368</td>\n      <td>1936</td>\n      <td>2381</td>\n      <td>2250</td>\n      <td>2394</td>\n      <td>767</td>\n      <td>470</td>\n      <td>57189.0</td>\n      <td>70825.0</td>\n    </tr>\n  </tbody>\n</table>\n<p>195 rows × 30 columns</p>\n</div>",
      "text/plain": "            borough  population  under_5_years  5-9_years  10-14_years  \\\nnta_code                                                                 \nBK27       Brooklyn       33163           2210       1826         1922   \nBK31       Brooklyn       79134           5166       4513         3379   \nBK75       Brooklyn       75318           7480       6580         5378   \nBK29       Brooklyn       64267           4151       3563         2891   \nBK28       Brooklyn       91646           6498       5162         4529   \n...             ...         ...            ...        ...          ...   \nBX63      The Bronx       37395           2751       3214         2731   \nBX08      The Bronx       35752           2740       2706         2625   \nBX59      The Bronx       28437           2281       1640         1644   \nBX44      The Bronx       65043           4887       4199         4395   \nBX62      The Bronx       44064           2467       2372         2715   \n\n          15-19_years  20-24_years  25-29_years  30-34_years  35-39_years  \\\nnta_code                                                                    \nBK27             1657         1726         2850         2771         2442   \nBK31             3551         4347         6827         6876         5459   \nBK75             4635         6479         8683         6984         5586   \nBK29             3470         4182         4939         4634         4677   \nBK28             4648         5793         8036         7766         5917   \n...               ...          ...          ...          ...          ...   \nBX63             2623         3367         3216         2866         2207   \nBX08             2266         2954         2996         2592         2682   \nBX59             1942         2668         2526         1908         1867   \nBX44             4717         5485         4864         4214         4058   \nBX62             2511         3356         3822         2600         2802   \n\n          ...  15000_to_24999  25000_to_34999  35000_to_49999  50000_to_74999  \\\nnta_code  ...                                                                   \nBK27      ...            1223             927            1290            2074   \nBK31      ...            3235            3047            3542            5570   \nBK75      ...            3385            2509            3124            3706   \nBK29      ...            2718            2185            2655            3898   \nBK28      ...            3383            3246            4036            5117   \n...       ...             ...             ...             ...             ...   \nBX63      ...            2170            1714            1713            1872   \nBX08      ...            1856            1570            1587            1698   \nBX59      ...            1064             994             986            1628   \nBX44      ...            2646            2282            3176            3787   \nBX62      ...            1061            1368            1936            2381   \n\n          75000_to_99999  100000_to_149999  150000_to_199999  200000_or_more  \\\nnta_code                                                                       \nBK27                1352              1758               706             585   \nBK31                4108              4827              2497            2775   \nBK75                2269              2847              1195            1034   \nBK29                2558              2416              1144             844   \nBK28                3428              3743              1649            1231   \n...                  ...               ...               ...             ...   \nBX63                 849               525                70             100   \nBX08                 932               660               182              35   \nBX59                1172               885               217             289   \nBX44                1936              2326               597             297   \nBX62                2250              2394               767             470   \n\n          median_income  mean_income  \nnta_code                              \nBK27            58243.0      75950.0  \nBK31            63539.0      86319.0  \nBK75            39970.0      62616.0  \nBK29            48097.0      65715.0  \nBK28            51035.0      70198.0  \n...                 ...          ...  \nBX63            26520.0      37550.0  \nBX08            29306.0      39917.0  \nBX59            43412.0      57590.0  \nBX44            40791.0      53405.0  \nBX62            57189.0      70825.0  \n\n[195 rows x 30 columns]"
     },
     "execution_count": 70,
     "metadata": {},
     "output_type": "execute_result"
    }
   ],
   "source": [
    "nta.set_index(\"nta_code\", inplace=True)\n",
    "\n",
    "pipe = pdp.ColDrop(\"nta_name\")\n",
    "\n",
    "'''\n",
    "all nta boroughs (guess): ['Brooklyn', 'Queens', 'Manhattan', 'Bronx', 'Staten Island']\n",
    "'''\n",
    "nta = pipe(nta)\n",
    "nta"
   ]
  },
  {
   "cell_type": "code",
   "execution_count": 71,
   "metadata": {},
   "outputs": [
    {
     "data": {
      "text/plain": "array(['Brooklyn', 'Manhattan', 'Queens', 'Staten Island', 'The Bronx'],\n      dtype=object)"
     },
     "execution_count": 71,
     "metadata": {},
     "output_type": "execute_result"
    }
   ],
   "source": [
    "nta.borough.unique()"
   ]
  },
  {
   "cell_type": "code",
   "execution_count": 72,
   "metadata": {},
   "outputs": [
    {
     "data": {
      "text/html": "<div>\n<style scoped>\n    .dataframe tbody tr th:only-of-type {\n        vertical-align: middle;\n    }\n\n    .dataframe tbody tr th {\n        vertical-align: top;\n    }\n\n    .dataframe thead th {\n        text-align: right;\n    }\n</style>\n<table border=\"1\" class=\"dataframe\">\n  <thead>\n    <tr style=\"text-align: right;\">\n      <th></th>\n      <th>BK88</th>\n      <th>QN52</th>\n      <th>QN48</th>\n      <th>QN51</th>\n      <th>QN27</th>\n      <th>BX35</th>\n      <th>BX98</th>\n      <th>QN07</th>\n      <th>MN06</th>\n      <th>QN02</th>\n      <th>...</th>\n      <th>MN25</th>\n      <th>MN24</th>\n      <th>MN23</th>\n      <th>MN13</th>\n      <th>MN15</th>\n      <th>MN32</th>\n      <th>MN33</th>\n      <th>MN99</th>\n      <th>QN18</th>\n      <th>QN29</th>\n    </tr>\n  </thead>\n  <tbody>\n    <tr>\n      <th>0</th>\n      <td>-73.976051</td>\n      <td>-73.794934</td>\n      <td>-73.775740</td>\n      <td>-73.803792</td>\n      <td>-73.861099</td>\n      <td>-73.896967</td>\n      <td>-73.872873</td>\n      <td>-73.757258</td>\n      <td>-73.946080</td>\n      <td>-73.760316</td>\n      <td>...</td>\n      <td>-74.000784</td>\n      <td>-73.992605</td>\n      <td>-73.989904</td>\n      <td>-74.001535</td>\n      <td>-73.993833</td>\n      <td>-73.938048</td>\n      <td>-73.935054</td>\n      <td>-74.010930</td>\n      <td>-73.858726</td>\n      <td>-73.867911</td>\n    </tr>\n    <tr>\n      <th>1</th>\n      <td>40.631284</td>\n      <td>40.757806</td>\n      <td>40.743334</td>\n      <td>40.775618</td>\n      <td>40.763673</td>\n      <td>40.834350</td>\n      <td>40.785983</td>\n      <td>40.718147</td>\n      <td>40.821271</td>\n      <td>40.675118</td>\n      <td>...</td>\n      <td>40.694295</td>\n      <td>40.724145</td>\n      <td>40.734443</td>\n      <td>40.762653</td>\n      <td>40.772940</td>\n      <td>40.780838</td>\n      <td>40.791695</td>\n      <td>40.684500</td>\n      <td>40.735717</td>\n      <td>40.744942</td>\n    </tr>\n    <tr>\n      <th>2</th>\n      <td>-73.977167</td>\n      <td>-73.794749</td>\n      <td>-73.775799</td>\n      <td>-73.800991</td>\n      <td>-73.859931</td>\n      <td>-73.896787</td>\n      <td>-73.872886</td>\n      <td>-73.755890</td>\n      <td>-73.946404</td>\n      <td>-73.758806</td>\n      <td>...</td>\n      <td>-74.000960</td>\n      <td>-73.992634</td>\n      <td>-73.989870</td>\n      <td>-74.001339</td>\n      <td>-73.993789</td>\n      <td>-73.937903</td>\n      <td>-73.935108</td>\n      <td>-74.011934</td>\n      <td>-73.858672</td>\n      <td>-73.867877</td>\n    </tr>\n    <tr>\n      <th>3</th>\n      <td>40.630755</td>\n      <td>40.755636</td>\n      <td>40.743326</td>\n      <td>40.775397</td>\n      <td>40.762209</td>\n      <td>40.834133</td>\n      <td>40.785971</td>\n      <td>40.716307</td>\n      <td>40.820580</td>\n      <td>40.673014</td>\n      <td>...</td>\n      <td>40.694077</td>\n      <td>40.724065</td>\n      <td>40.733535</td>\n      <td>40.762217</td>\n      <td>40.772912</td>\n      <td>40.780758</td>\n      <td>40.791658</td>\n      <td>40.683896</td>\n      <td>40.735627</td>\n      <td>40.744824</td>\n    </tr>\n    <tr>\n      <th>4</th>\n      <td>-73.977000</td>\n      <td>-73.794579</td>\n      <td>-73.778060</td>\n      <td>-73.798653</td>\n      <td>-73.859668</td>\n      <td>-73.896303</td>\n      <td>-73.872983</td>\n      <td>-73.754702</td>\n      <td>-73.946720</td>\n      <td>-73.758598</td>\n      <td>...</td>\n      <td>-74.003015</td>\n      <td>-73.993093</td>\n      <td>-73.990028</td>\n      <td>-74.001279</td>\n      <td>-73.993727</td>\n      <td>-73.937796</td>\n      <td>-73.935173</td>\n      <td>-74.012177</td>\n      <td>-73.858585</td>\n      <td>-73.867852</td>\n    </tr>\n  </tbody>\n</table>\n<p>5 rows × 195 columns</p>\n</div>",
      "text/plain": "        BK88       QN52       QN48       QN51       QN27       BX35  \\\n0 -73.976051 -73.794934 -73.775740 -73.803792 -73.861099 -73.896967   \n1  40.631284  40.757806  40.743334  40.775618  40.763673  40.834350   \n2 -73.977167 -73.794749 -73.775799 -73.800991 -73.859931 -73.896787   \n3  40.630755  40.755636  40.743326  40.775397  40.762209  40.834133   \n4 -73.977000 -73.794579 -73.778060 -73.798653 -73.859668 -73.896303   \n\n        BX98       QN07       MN06       QN02  ...       MN25       MN24  \\\n0 -73.872873 -73.757258 -73.946080 -73.760316  ... -74.000784 -73.992605   \n1  40.785983  40.718147  40.821271  40.675118  ...  40.694295  40.724145   \n2 -73.872886 -73.755890 -73.946404 -73.758806  ... -74.000960 -73.992634   \n3  40.785971  40.716307  40.820580  40.673014  ...  40.694077  40.724065   \n4 -73.872983 -73.754702 -73.946720 -73.758598  ... -74.003015 -73.993093   \n\n        MN23       MN13       MN15       MN32       MN33       MN99  \\\n0 -73.989904 -74.001535 -73.993833 -73.938048 -73.935054 -74.010930   \n1  40.734443  40.762653  40.772940  40.780838  40.791695  40.684500   \n2 -73.989870 -74.001339 -73.993789 -73.937903 -73.935108 -74.011934   \n3  40.733535  40.762217  40.772912  40.780758  40.791658  40.683896   \n4 -73.990028 -74.001279 -73.993727 -73.937796 -73.935173 -74.012177   \n\n        QN18       QN29  \n0 -73.858726 -73.867911  \n1  40.735717  40.744942  \n2 -73.858672 -73.867877  \n3  40.735627  40.744824  \n4 -73.858585 -73.867852  \n\n[5 rows x 195 columns]"
     },
     "execution_count": 72,
     "metadata": {},
     "output_type": "execute_result"
    }
   ],
   "source": [
    "name_map = \"Data/legend/geographic\"\n",
    "\n",
    "original_nta_map = pd.read_csv(name_map+\".csv\")\n",
    "nta_map = original_nta_map\n",
    "nta_map.head()"
   ]
  },
  {
   "cell_type": "code",
   "execution_count": 73,
   "metadata": {},
   "outputs": [
    {
     "data": {
      "text/html": "<div>\n<style scoped>\n    .dataframe tbody tr th:only-of-type {\n        vertical-align: middle;\n    }\n\n    .dataframe tbody tr th {\n        vertical-align: top;\n    }\n\n    .dataframe thead th {\n        text-align: right;\n    }\n</style>\n<table border=\"1\" class=\"dataframe\">\n  <thead>\n    <tr style=\"text-align: right;\">\n      <th></th>\n      <th>BK88</th>\n      <th>QN52</th>\n      <th>QN48</th>\n      <th>QN51</th>\n      <th>QN27</th>\n      <th>BX35</th>\n      <th>BX98</th>\n      <th>QN07</th>\n      <th>MN06</th>\n      <th>QN02</th>\n      <th>...</th>\n      <th>MN25</th>\n      <th>MN24</th>\n      <th>MN23</th>\n      <th>MN13</th>\n      <th>MN15</th>\n      <th>MN32</th>\n      <th>MN33</th>\n      <th>MN99</th>\n      <th>QN18</th>\n      <th>QN29</th>\n    </tr>\n  </thead>\n  <tbody>\n    <tr>\n      <th>0</th>\n      <td>-73.976051</td>\n      <td>-73.794934</td>\n      <td>-73.775740</td>\n      <td>-73.803792</td>\n      <td>-73.861099</td>\n      <td>-73.896967</td>\n      <td>-73.872873</td>\n      <td>-73.757258</td>\n      <td>-73.946080</td>\n      <td>-73.760316</td>\n      <td>...</td>\n      <td>-74.000784</td>\n      <td>-73.992605</td>\n      <td>-73.989904</td>\n      <td>-74.001535</td>\n      <td>-73.993833</td>\n      <td>-73.938048</td>\n      <td>-73.935054</td>\n      <td>-74.010930</td>\n      <td>-73.858726</td>\n      <td>-73.867911</td>\n    </tr>\n    <tr>\n      <th>1</th>\n      <td>40.631284</td>\n      <td>40.757806</td>\n      <td>40.743334</td>\n      <td>40.775618</td>\n      <td>40.763673</td>\n      <td>40.834350</td>\n      <td>40.785983</td>\n      <td>40.718147</td>\n      <td>40.821271</td>\n      <td>40.675118</td>\n      <td>...</td>\n      <td>40.694295</td>\n      <td>40.724145</td>\n      <td>40.734443</td>\n      <td>40.762653</td>\n      <td>40.772940</td>\n      <td>40.780838</td>\n      <td>40.791695</td>\n      <td>40.684500</td>\n      <td>40.735717</td>\n      <td>40.744942</td>\n    </tr>\n    <tr>\n      <th>2</th>\n      <td>-73.977167</td>\n      <td>-73.794749</td>\n      <td>-73.775799</td>\n      <td>-73.800991</td>\n      <td>-73.859931</td>\n      <td>-73.896787</td>\n      <td>-73.872886</td>\n      <td>-73.755890</td>\n      <td>-73.946404</td>\n      <td>-73.758806</td>\n      <td>...</td>\n      <td>-74.000960</td>\n      <td>-73.992634</td>\n      <td>-73.989870</td>\n      <td>-74.001339</td>\n      <td>-73.993789</td>\n      <td>-73.937903</td>\n      <td>-73.935108</td>\n      <td>-74.011934</td>\n      <td>-73.858672</td>\n      <td>-73.867877</td>\n    </tr>\n    <tr>\n      <th>3</th>\n      <td>40.630755</td>\n      <td>40.755636</td>\n      <td>40.743326</td>\n      <td>40.775397</td>\n      <td>40.762209</td>\n      <td>40.834133</td>\n      <td>40.785971</td>\n      <td>40.716307</td>\n      <td>40.820580</td>\n      <td>40.673014</td>\n      <td>...</td>\n      <td>40.694077</td>\n      <td>40.724065</td>\n      <td>40.733535</td>\n      <td>40.762217</td>\n      <td>40.772912</td>\n      <td>40.780758</td>\n      <td>40.791658</td>\n      <td>40.683896</td>\n      <td>40.735627</td>\n      <td>40.744824</td>\n    </tr>\n    <tr>\n      <th>4</th>\n      <td>-73.977000</td>\n      <td>-73.794579</td>\n      <td>-73.778060</td>\n      <td>-73.798653</td>\n      <td>-73.859668</td>\n      <td>-73.896303</td>\n      <td>-73.872983</td>\n      <td>-73.754702</td>\n      <td>-73.946720</td>\n      <td>-73.758598</td>\n      <td>...</td>\n      <td>-74.003015</td>\n      <td>-73.993093</td>\n      <td>-73.990028</td>\n      <td>-74.001279</td>\n      <td>-73.993727</td>\n      <td>-73.937796</td>\n      <td>-73.935173</td>\n      <td>-74.012177</td>\n      <td>-73.858585</td>\n      <td>-73.867852</td>\n    </tr>\n  </tbody>\n</table>\n<p>5 rows × 195 columns</p>\n</div>",
      "text/plain": "        BK88       QN52       QN48       QN51       QN27       BX35  \\\n0 -73.976051 -73.794934 -73.775740 -73.803792 -73.861099 -73.896967   \n1  40.631284  40.757806  40.743334  40.775618  40.763673  40.834350   \n2 -73.977167 -73.794749 -73.775799 -73.800991 -73.859931 -73.896787   \n3  40.630755  40.755636  40.743326  40.775397  40.762209  40.834133   \n4 -73.977000 -73.794579 -73.778060 -73.798653 -73.859668 -73.896303   \n\n        BX98       QN07       MN06       QN02  ...       MN25       MN24  \\\n0 -73.872873 -73.757258 -73.946080 -73.760316  ... -74.000784 -73.992605   \n1  40.785983  40.718147  40.821271  40.675118  ...  40.694295  40.724145   \n2 -73.872886 -73.755890 -73.946404 -73.758806  ... -74.000960 -73.992634   \n3  40.785971  40.716307  40.820580  40.673014  ...  40.694077  40.724065   \n4 -73.872983 -73.754702 -73.946720 -73.758598  ... -74.003015 -73.993093   \n\n        MN23       MN13       MN15       MN32       MN33       MN99  \\\n0 -73.989904 -74.001535 -73.993833 -73.938048 -73.935054 -74.010930   \n1  40.734443  40.762653  40.772940  40.780838  40.791695  40.684500   \n2 -73.989870 -74.001339 -73.993789 -73.937903 -73.935108 -74.011934   \n3  40.733535  40.762217  40.772912  40.780758  40.791658  40.683896   \n4 -73.990028 -74.001279 -73.993727 -73.937796 -73.935173 -74.012177   \n\n        QN18       QN29  \n0 -73.858726 -73.867911  \n1  40.735717  40.744942  \n2 -73.858672 -73.867877  \n3  40.735627  40.744824  \n4 -73.858585 -73.867852  \n\n[5 rows x 195 columns]"
     },
     "execution_count": 73,
     "metadata": {},
     "output_type": "execute_result"
    }
   ],
   "source": [
    "outside_codes = set(nta_map.columns).difference(set(nta.index))\n",
    "\n",
    "pipe_map = pdp.ColDrop(columns=outside_codes)\n",
    "\n",
    "nta_map = pipe_map(nta_map)\n",
    "nta_map.head()"
   ]
  },
  {
   "cell_type": "code",
   "execution_count": 80,
   "metadata": {},
   "outputs": [
    {
     "ename": "TypeError",
     "evalue": "'Polygon' object does not support item assignment",
     "output_type": "error",
     "traceback": [
      "\u001b[0;31m---------------------------------------------------------------------------\u001b[0m",
      "\u001b[0;31mTypeError\u001b[0m                                 Traceback (most recent call last)",
      "\u001b[0;32m<ipython-input-80-9bfd19fa5852>\u001b[0m in \u001b[0;36m<module>\u001b[0;34m\u001b[0m\n\u001b[1;32m      6\u001b[0m     \u001b[0mlongs\u001b[0m \u001b[0;34m=\u001b[0m \u001b[0mlist\u001b[0m\u001b[0;34m(\u001b[0m\u001b[0mfilter\u001b[0m\u001b[0;34m(\u001b[0m\u001b[0;32mlambda\u001b[0m \u001b[0mn\u001b[0m\u001b[0;34m:\u001b[0m \u001b[0;32mnot\u001b[0m\u001b[0;34m(\u001b[0m\u001b[0mnp\u001b[0m\u001b[0;34m.\u001b[0m\u001b[0misnan\u001b[0m\u001b[0;34m(\u001b[0m\u001b[0mn\u001b[0m\u001b[0;34m)\u001b[0m\u001b[0;34m)\u001b[0m\u001b[0;34m,\u001b[0m \u001b[0mlongs\u001b[0m\u001b[0;34m)\u001b[0m\u001b[0;34m)\u001b[0m\u001b[0;34m\u001b[0m\u001b[0;34m\u001b[0m\u001b[0m\n\u001b[1;32m      7\u001b[0m     \u001b[0;32massert\u001b[0m \u001b[0mlen\u001b[0m\u001b[0;34m(\u001b[0m\u001b[0mlats\u001b[0m\u001b[0;34m)\u001b[0m\u001b[0;34m==\u001b[0m\u001b[0mlen\u001b[0m\u001b[0;34m(\u001b[0m\u001b[0mlongs\u001b[0m\u001b[0;34m)\u001b[0m\u001b[0;34m,\u001b[0m \u001b[0mstr\u001b[0m\u001b[0;34m(\u001b[0m\u001b[0mcode\u001b[0m\u001b[0;34m)\u001b[0m\u001b[0;34m+\u001b[0m\u001b[0;34m\" doesn't have same no. of lats & longs...\"\u001b[0m\u001b[0;34m\u001b[0m\u001b[0;34m\u001b[0m\u001b[0m\n\u001b[0;32m----> 8\u001b[0;31m     \u001b[0mnta\u001b[0m\u001b[0;34m.\u001b[0m\u001b[0mgeometry\u001b[0m\u001b[0;34m[\u001b[0m\u001b[0mcode\u001b[0m\u001b[0;34m]\u001b[0m \u001b[0;34m=\u001b[0m \u001b[0mPolygon\u001b[0m\u001b[0;34m(\u001b[0m\u001b[0;34m[\u001b[0m\u001b[0;34m[\u001b[0m\u001b[0mlats\u001b[0m\u001b[0;34m[\u001b[0m\u001b[0mi\u001b[0m\u001b[0;34m]\u001b[0m\u001b[0;34m,\u001b[0m\u001b[0mlongs\u001b[0m\u001b[0;34m[\u001b[0m\u001b[0mi\u001b[0m\u001b[0;34m]\u001b[0m\u001b[0;34m]\u001b[0m \u001b[0;32mfor\u001b[0m \u001b[0mi\u001b[0m \u001b[0;32min\u001b[0m \u001b[0mrange\u001b[0m\u001b[0;34m(\u001b[0m\u001b[0mlen\u001b[0m\u001b[0;34m(\u001b[0m\u001b[0mlats\u001b[0m\u001b[0;34m)\u001b[0m\u001b[0;34m)\u001b[0m\u001b[0;34m]\u001b[0m\u001b[0;34m)\u001b[0m\u001b[0;34m\u001b[0m\u001b[0;34m\u001b[0m\u001b[0m\n\u001b[0m\u001b[1;32m      9\u001b[0m \u001b[0mnta\u001b[0m\u001b[0;34m.\u001b[0m\u001b[0mgeometry\u001b[0m\u001b[0;34m.\u001b[0m\u001b[0mhead\u001b[0m\u001b[0;34m(\u001b[0m\u001b[0;34m)\u001b[0m\u001b[0;34m\u001b[0m\u001b[0;34m\u001b[0m\u001b[0m\n",
      "\u001b[0;31mTypeError\u001b[0m: 'Polygon' object does not support item assignment"
     ]
    }
   ],
   "source": [
    "gnta = gpd.GeoDataFrame(nta,geometry=None)\n",
    "for code in list(nta_map.columns):\n",
    "    lats = list(nta_map[code])[::2]\n",
    "    longs = list(nta_map[code])[1::2]\n",
    "    lats = list(filter(lambda n: not(np.isnan(n)), lats))\n",
    "    longs = list(filter(lambda n: not(np.isnan(n)), longs))\n",
    "    assert len(lats)==len(longs), str(code)+\" doesn't have same no. of lats & longs...\"\n",
    "    nta.geometry[code] = Polygon([[lats[i],longs[i]] for i in range(len(lats))])\n",
    "nta.geometry.head()"
   ]
  },
  {
   "cell_type": "code",
   "execution_count": null,
   "metadata": {},
   "outputs": [],
   "source": [
    "nta.geometry.to_csv(\"nta_region.csv\")"
   ]
  },
  {
   "cell_type": "code",
   "execution_count": null,
   "metadata": {},
   "outputs": [],
   "source": [
    "fig,ax = plt.subplots(figsize = (20,20))\n",
    "gnta.plot(ax=ax)"
   ]
  },
  {
   "cell_type": "code",
   "execution_count": null,
   "metadata": {},
   "outputs": [],
   "source": []
  }
 ],
 "metadata": {
  "kernelspec": {
   "display_name": "Python 3",
   "language": "python",
   "name": "python3"
  },
  "language_info": {
   "codemirror_mode": {
    "name": "ipython",
    "version": 3
   },
   "file_extension": ".py",
   "mimetype": "text/x-python",
   "name": "python",
   "nbconvert_exporter": "python",
   "pygments_lexer": "ipython3",
   "version": "3.8.1-final"
  }
 },
 "nbformat": 4,
 "nbformat_minor": 4
}