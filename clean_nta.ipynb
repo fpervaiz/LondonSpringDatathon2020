{
 "cells": [
  {
   "cell_type": "code",
   "execution_count": 2,
   "metadata": {},
   "outputs": [],
   "source": [
    "import pandas as pd\n",
    "import numpy as np\n",
    "import math\n",
    "import matplotlib as plt\n",
    "import pdpipe as pdp"
   ]
  },
  {
   "cell_type": "code",
   "execution_count": 3,
   "metadata": {},
   "outputs": [
    {
     "data": {
      "text/html": "<div>\n<style scoped>\n    .dataframe tbody tr th:only-of-type {\n        vertical-align: middle;\n    }\n\n    .dataframe tbody tr th {\n        vertical-align: top;\n    }\n\n    .dataframe thead th {\n        text-align: right;\n    }\n</style>\n<table border=\"1\" class=\"dataframe\">\n  <thead>\n    <tr style=\"text-align: right;\">\n      <th></th>\n      <th>nta_name</th>\n      <th>borough</th>\n      <th>nta_code</th>\n      <th>population</th>\n      <th>under_5_years</th>\n      <th>5-9_years</th>\n      <th>10-14_years</th>\n      <th>15-19_years</th>\n      <th>20-24_years</th>\n      <th>25-29_years</th>\n      <th>...</th>\n      <th>15000_to_24999</th>\n      <th>25000_to_34999</th>\n      <th>35000_to_49999</th>\n      <th>50000_to_74999</th>\n      <th>75000_to_99999</th>\n      <th>100000_to_149999</th>\n      <th>150000_to_199999</th>\n      <th>200000_or_more</th>\n      <th>median_income</th>\n      <th>mean_income</th>\n    </tr>\n  </thead>\n  <tbody>\n    <tr>\n      <th>0</th>\n      <td>Bath Beach</td>\n      <td>Brooklyn</td>\n      <td>BK27</td>\n      <td>33163</td>\n      <td>2210</td>\n      <td>1826</td>\n      <td>1922</td>\n      <td>1657</td>\n      <td>1726</td>\n      <td>2850</td>\n      <td>...</td>\n      <td>1223</td>\n      <td>927</td>\n      <td>1290</td>\n      <td>2074</td>\n      <td>1352</td>\n      <td>1758</td>\n      <td>706</td>\n      <td>585</td>\n      <td>58243</td>\n      <td>75950</td>\n    </tr>\n    <tr>\n      <th>1</th>\n      <td>Bay Ridge</td>\n      <td>Brooklyn</td>\n      <td>BK31</td>\n      <td>79134</td>\n      <td>5166</td>\n      <td>4513</td>\n      <td>3379</td>\n      <td>3551</td>\n      <td>4347</td>\n      <td>6827</td>\n      <td>...</td>\n      <td>3235</td>\n      <td>3047</td>\n      <td>3542</td>\n      <td>5570</td>\n      <td>4108</td>\n      <td>4827</td>\n      <td>2497</td>\n      <td>2775</td>\n      <td>63539</td>\n      <td>86319</td>\n    </tr>\n    <tr>\n      <th>2</th>\n      <td>Bedf8ord</td>\n      <td>Brooklyn</td>\n      <td>BK75</td>\n      <td>75318</td>\n      <td>7480</td>\n      <td>6580</td>\n      <td>5378</td>\n      <td>4635</td>\n      <td>6479</td>\n      <td>8683</td>\n      <td>...</td>\n      <td>3385</td>\n      <td>2509</td>\n      <td>3124</td>\n      <td>3706</td>\n      <td>2269</td>\n      <td>2847</td>\n      <td>1195</td>\n      <td>1034</td>\n      <td>39970</td>\n      <td>62616</td>\n    </tr>\n    <tr>\n      <th>3</th>\n      <td>Bensonhurst East</td>\n      <td>Brooklyn</td>\n      <td>BK29</td>\n      <td>64267</td>\n      <td>4151</td>\n      <td>3563</td>\n      <td>2891</td>\n      <td>3470</td>\n      <td>4182</td>\n      <td>4939</td>\n      <td>...</td>\n      <td>2718</td>\n      <td>2185</td>\n      <td>2655</td>\n      <td>3898</td>\n      <td>2558</td>\n      <td>2416</td>\n      <td>1144</td>\n      <td>844</td>\n      <td>48097</td>\n      <td>65715</td>\n    </tr>\n    <tr>\n      <th>4</th>\n      <td>Bensonhurst West</td>\n      <td>Brooklyn</td>\n      <td>BK28</td>\n      <td>91646</td>\n      <td>6498</td>\n      <td>5162</td>\n      <td>4529</td>\n      <td>4648</td>\n      <td>5793</td>\n      <td>8036</td>\n      <td>...</td>\n      <td>3383</td>\n      <td>3246</td>\n      <td>4036</td>\n      <td>5117</td>\n      <td>3428</td>\n      <td>3743</td>\n      <td>1649</td>\n      <td>1231</td>\n      <td>51035</td>\n      <td>70198</td>\n    </tr>\n  </tbody>\n</table>\n<p>5 rows × 32 columns</p>\n</div>",
      "text/plain": "           nta_name   borough nta_code  population  under_5_years  5-9_years  \\\n0        Bath Beach  Brooklyn     BK27       33163           2210       1826   \n1         Bay Ridge  Brooklyn     BK31       79134           5166       4513   \n2           Bedf8ord  Brooklyn     BK75       75318           7480       6580   \n3  Bensonhurst East  Brooklyn     BK29       64267           4151       3563   \n4  Bensonhurst West  Brooklyn     BK28       91646           6498       5162   \n\n   10-14_years  15-19_years  20-24_years  25-29_years  ...  15000_to_24999  \\\n0         1922         1657         1726         2850  ...            1223   \n1         3379         3551         4347         6827  ...            3235   \n2         5378         4635         6479         8683  ...            3385   \n3         2891         3470         4182         4939  ...            2718   \n4         4529         4648         5793         8036  ...            3383   \n\n   25000_to_34999  35000_to_49999  50000_to_74999  75000_to_99999  \\\n0             927            1290            2074            1352   \n1            3047            3542            5570            4108   \n2            2509            3124            3706            2269   \n3            2185            2655            3898            2558   \n4            3246            4036            5117            3428   \n\n   100000_to_149999  150000_to_199999  200000_or_more  median_income  \\\n0              1758               706             585          58243   \n1              4827              2497            2775          63539   \n2              2847              1195            1034          39970   \n3              2416              1144             844          48097   \n4              3743              1649            1231          51035   \n\n   mean_income  \n0        75950  \n1        86319  \n2        62616  \n3        65715  \n4        70198  \n\n[5 rows x 32 columns]"
     },
     "execution_count": 3,
     "metadata": {},
     "output_type": "execute_result"
    }
   ],
   "source": [
    "name = \"dataset_8\"\n",
    "\n",
    "original_df8 = pd.read_csv(name+\".csv\")\n",
    "df8 = original_df8\n",
    "df8.head()"
   ]
  },
  {
   "cell_type": "code",
   "execution_count": 19,
   "metadata": {},
   "outputs": [
    {
     "data": {
      "text/html": "<div>\n<style scoped>\n    .dataframe tbody tr th:only-of-type {\n        vertical-align: middle;\n    }\n\n    .dataframe tbody tr th {\n        vertical-align: top;\n    }\n\n    .dataframe thead th {\n        text-align: right;\n    }\n</style>\n<table border=\"1\" class=\"dataframe\">\n  <thead>\n    <tr style=\"text-align: right;\">\n      <th></th>\n      <th>borough</th>\n      <th>nta_code</th>\n      <th>population</th>\n      <th>under_5_years</th>\n      <th>5-9_years</th>\n      <th>10-14_years</th>\n      <th>15-19_years</th>\n      <th>20-24_years</th>\n      <th>25-29_years</th>\n      <th>30-34_years</th>\n      <th>...</th>\n      <th>15000_to_24999</th>\n      <th>25000_to_34999</th>\n      <th>35000_to_49999</th>\n      <th>50000_to_74999</th>\n      <th>75000_to_99999</th>\n      <th>100000_to_149999</th>\n      <th>150000_to_199999</th>\n      <th>200000_or_more</th>\n      <th>median_income</th>\n      <th>mean_income</th>\n    </tr>\n  </thead>\n  <tbody>\n    <tr>\n      <th>0</th>\n      <td>Brooklyn</td>\n      <td>BK27</td>\n      <td>33163</td>\n      <td>2210</td>\n      <td>1826</td>\n      <td>1922</td>\n      <td>1657</td>\n      <td>1726</td>\n      <td>2850</td>\n      <td>2771</td>\n      <td>...</td>\n      <td>1223</td>\n      <td>927</td>\n      <td>1290</td>\n      <td>2074</td>\n      <td>1352</td>\n      <td>1758</td>\n      <td>706</td>\n      <td>585</td>\n      <td>58243</td>\n      <td>75950</td>\n    </tr>\n    <tr>\n      <th>1</th>\n      <td>Brooklyn</td>\n      <td>BK31</td>\n      <td>79134</td>\n      <td>5166</td>\n      <td>4513</td>\n      <td>3379</td>\n      <td>3551</td>\n      <td>4347</td>\n      <td>6827</td>\n      <td>6876</td>\n      <td>...</td>\n      <td>3235</td>\n      <td>3047</td>\n      <td>3542</td>\n      <td>5570</td>\n      <td>4108</td>\n      <td>4827</td>\n      <td>2497</td>\n      <td>2775</td>\n      <td>63539</td>\n      <td>86319</td>\n    </tr>\n    <tr>\n      <th>2</th>\n      <td>Brooklyn</td>\n      <td>BK75</td>\n      <td>75318</td>\n      <td>7480</td>\n      <td>6580</td>\n      <td>5378</td>\n      <td>4635</td>\n      <td>6479</td>\n      <td>8683</td>\n      <td>6984</td>\n      <td>...</td>\n      <td>3385</td>\n      <td>2509</td>\n      <td>3124</td>\n      <td>3706</td>\n      <td>2269</td>\n      <td>2847</td>\n      <td>1195</td>\n      <td>1034</td>\n      <td>39970</td>\n      <td>62616</td>\n    </tr>\n    <tr>\n      <th>3</th>\n      <td>Brooklyn</td>\n      <td>BK29</td>\n      <td>64267</td>\n      <td>4151</td>\n      <td>3563</td>\n      <td>2891</td>\n      <td>3470</td>\n      <td>4182</td>\n      <td>4939</td>\n      <td>4634</td>\n      <td>...</td>\n      <td>2718</td>\n      <td>2185</td>\n      <td>2655</td>\n      <td>3898</td>\n      <td>2558</td>\n      <td>2416</td>\n      <td>1144</td>\n      <td>844</td>\n      <td>48097</td>\n      <td>65715</td>\n    </tr>\n    <tr>\n      <th>4</th>\n      <td>Brooklyn</td>\n      <td>BK28</td>\n      <td>91646</td>\n      <td>6498</td>\n      <td>5162</td>\n      <td>4529</td>\n      <td>4648</td>\n      <td>5793</td>\n      <td>8036</td>\n      <td>7766</td>\n      <td>...</td>\n      <td>3383</td>\n      <td>3246</td>\n      <td>4036</td>\n      <td>5117</td>\n      <td>3428</td>\n      <td>3743</td>\n      <td>1649</td>\n      <td>1231</td>\n      <td>51035</td>\n      <td>70198</td>\n    </tr>\n  </tbody>\n</table>\n<p>5 rows × 31 columns</p>\n</div>",
      "text/plain": "    borough nta_code  population  under_5_years  5-9_years  10-14_years  \\\n0  Brooklyn     BK27       33163           2210       1826         1922   \n1  Brooklyn     BK31       79134           5166       4513         3379   \n2  Brooklyn     BK75       75318           7480       6580         5378   \n3  Brooklyn     BK29       64267           4151       3563         2891   \n4  Brooklyn     BK28       91646           6498       5162         4529   \n\n   15-19_years  20-24_years  25-29_years  30-34_years  ...  15000_to_24999  \\\n0         1657         1726         2850         2771  ...            1223   \n1         3551         4347         6827         6876  ...            3235   \n2         4635         6479         8683         6984  ...            3385   \n3         3470         4182         4939         4634  ...            2718   \n4         4648         5793         8036         7766  ...            3383   \n\n   25000_to_34999  35000_to_49999  50000_to_74999  75000_to_99999  \\\n0             927            1290            2074            1352   \n1            3047            3542            5570            4108   \n2            2509            3124            3706            2269   \n3            2185            2655            3898            2558   \n4            3246            4036            5117            3428   \n\n   100000_to_149999  150000_to_199999  200000_or_more  median_income  \\\n0              1758               706             585          58243   \n1              4827              2497            2775          63539   \n2              2847              1195            1034          39970   \n3              2416              1144             844          48097   \n4              3743              1649            1231          51035   \n\n   mean_income  \n0        75950  \n1        86319  \n2        62616  \n3        65715  \n4        70198  \n\n[5 rows x 31 columns]"
     },
     "execution_count": 19,
     "metadata": {},
     "output_type": "execute_result"
    }
   ],
   "source": [
    "df8.set_index(\"nta_code\")\n",
    "\n",
    "pipe = pdp.ColDrop(\"nta_name\")\n",
    "pipe += pdp.RowDrop({\"borough\": lambda b : b in [\"Staten Island\",\"Queens\"]})\n",
    "\n",
    "'''\n",
    "all nta boroughs (guess): ['Brooklyn', 'Queens', 'Manhattan', 'Bronx', 'Staten Island']\n",
    "'''\n",
    "df8 = pipe(df8)\n",
    "df8.head()"
   ]
  },
  {
   "cell_type": "code",
   "execution_count": 20,
   "metadata": {},
   "outputs": [
    {
     "data": {
      "text/html": "<div>\n<style scoped>\n    .dataframe tbody tr th:only-of-type {\n        vertical-align: middle;\n    }\n\n    .dataframe tbody tr th {\n        vertical-align: top;\n    }\n\n    .dataframe thead th {\n        text-align: right;\n    }\n</style>\n<table border=\"1\" class=\"dataframe\">\n  <thead>\n    <tr style=\"text-align: right;\">\n      <th></th>\n      <th>BoroCode</th>\n      <th>BoroName</th>\n      <th>the_geom</th>\n      <th>CountyFIPS</th>\n      <th>NTACode</th>\n      <th>NTAName</th>\n      <th>Shape_Leng</th>\n      <th>Shape_Area</th>\n    </tr>\n  </thead>\n  <tbody>\n    <tr>\n      <th>0</th>\n      <td>3</td>\n      <td>Brooklyn</td>\n      <td>MULTIPOLYGON (((-73.97604935657381 40.63127590...</td>\n      <td>47</td>\n      <td>BK88</td>\n      <td>Borough Park</td>\n      <td>39247.227831</td>\n      <td>5.400502e+07</td>\n    </tr>\n    <tr>\n      <th>1</th>\n      <td>4</td>\n      <td>Queens</td>\n      <td>MULTIPOLYGON (((-73.80379022888098 40.77561011...</td>\n      <td>81</td>\n      <td>QN51</td>\n      <td>Murray Hill</td>\n      <td>33266.904797</td>\n      <td>5.248828e+07</td>\n    </tr>\n    <tr>\n      <th>2</th>\n      <td>4</td>\n      <td>Queens</td>\n      <td>MULTIPOLYGON (((-73.8610972440186 40.763664477...</td>\n      <td>81</td>\n      <td>QN27</td>\n      <td>East Elmhurst</td>\n      <td>19816.712074</td>\n      <td>1.972685e+07</td>\n    </tr>\n    <tr>\n      <th>3</th>\n      <td>4</td>\n      <td>Queens</td>\n      <td>MULTIPOLYGON (((-73.75725671509139 40.71813860...</td>\n      <td>81</td>\n      <td>QN07</td>\n      <td>Hollis</td>\n      <td>20976.335574</td>\n      <td>2.288777e+07</td>\n    </tr>\n    <tr>\n      <th>4</th>\n      <td>1</td>\n      <td>Manhattan</td>\n      <td>MULTIPOLYGON (((-73.94607828674226 40.82126321...</td>\n      <td>61</td>\n      <td>MN06</td>\n      <td>Manhattanville</td>\n      <td>17040.685413</td>\n      <td>1.064708e+07</td>\n    </tr>\n  </tbody>\n</table>\n</div>",
      "text/plain": "   BoroCode   BoroName                                           the_geom  \\\n0         3   Brooklyn  MULTIPOLYGON (((-73.97604935657381 40.63127590...   \n1         4     Queens  MULTIPOLYGON (((-73.80379022888098 40.77561011...   \n2         4     Queens  MULTIPOLYGON (((-73.8610972440186 40.763664477...   \n3         4     Queens  MULTIPOLYGON (((-73.75725671509139 40.71813860...   \n4         1  Manhattan  MULTIPOLYGON (((-73.94607828674226 40.82126321...   \n\n   CountyFIPS NTACode         NTAName    Shape_Leng    Shape_Area  \n0          47    BK88    Borough Park  39247.227831  5.400502e+07  \n1          81    QN51     Murray Hill  33266.904797  5.248828e+07  \n2          81    QN27   East Elmhurst  19816.712074  1.972685e+07  \n3          81    QN07          Hollis  20976.335574  2.288777e+07  \n4          61    MN06  Manhattanville  17040.685413  1.064708e+07  "
     },
     "execution_count": 20,
     "metadata": {},
     "output_type": "execute_result"
    }
   ],
   "source": [
    "'''\n",
    "nta_full = pd.read_csv(\"nynta.csv\")\n",
    "nta_full.head()\n",
    "nta_full.BoroName.unique()\n",
    "'''"
   ]
  },
  {
   "cell_type": "code",
   "execution_count": 21,
   "metadata": {},
   "outputs": [
    {
     "data": {
      "text/plain": "array(['Brooklyn', 'Queens', 'Manhattan', 'Bronx', 'Staten Island'],\n      dtype=object)"
     },
     "execution_count": 21,
     "metadata": {},
     "output_type": "execute_result"
    }
   ],
   "source": [
    "nta_full.BoroName.unique()"
   ]
  },
  {
   "cell_type": "code",
   "execution_count": null,
   "metadata": {},
   "outputs": [],
   "source": []
  }
 ],
 "metadata": {
  "kernelspec": {
   "display_name": "Python 3",
   "language": "python",
   "name": "python3"
  },
  "language_info": {
   "codemirror_mode": {
    "name": "ipython",
    "version": 3
   },
   "file_extension": ".py",
   "mimetype": "text/x-python",
   "name": "python",
   "nbconvert_exporter": "python",
   "pygments_lexer": "ipython3",
   "version": "3.8.1-final"
  }
 },
 "nbformat": 4,
 "nbformat_minor": 4
}