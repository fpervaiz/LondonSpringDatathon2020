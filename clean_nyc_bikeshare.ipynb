{
 "cells": [
  {
   "cell_type": "code",
   "execution_count": 104,
   "metadata": {},
   "outputs": [],
   "source": [
    "import pandas as pd\n",
    "import numpy as np\n",
    "import matplotlib\n",
    "import matplotlib.pyplot as plt\n",
    "from matplotlib.path import Path\n",
    "import geopandas as gpd\n",
    "import pdpipe as pdp\n",
    "from shapely.geometry import Point, Polygon, MultiPolygon\n",
    "from shapely import wkt\n",
    "from random import *"
   ]
  },
  {
   "cell_type": "code",
   "execution_count": 3,
   "metadata": {},
   "outputs": [
    {
     "data": {
      "text/html": "<div>\n<style scoped>\n    .dataframe tbody tr th:only-of-type {\n        vertical-align: middle;\n    }\n\n    .dataframe tbody tr th {\n        vertical-align: top;\n    }\n\n    .dataframe thead th {\n        text-align: right;\n    }\n</style>\n<table border=\"1\" class=\"dataframe\">\n  <thead>\n    <tr style=\"text-align: right;\">\n      <th></th>\n      <th>tripduration</th>\n      <th>starttime</th>\n      <th>stoptime</th>\n      <th>start_station_id</th>\n      <th>end_station_id</th>\n      <th>bikeid</th>\n      <th>usertype</th>\n      <th>birthyear</th>\n      <th>gender</th>\n    </tr>\n  </thead>\n  <tbody>\n    <tr>\n      <th>0</th>\n      <td>2059</td>\n      <td>06-01-13 00:00:44</td>\n      <td>06-01-13 00:35:03</td>\n      <td>406.0</td>\n      <td>406.0</td>\n      <td>19599</td>\n      <td>0.0</td>\n      <td>NaN</td>\n      <td>0</td>\n    </tr>\n    <tr>\n      <th>1</th>\n      <td>1521</td>\n      <td>06-01-13 00:01:22</td>\n      <td>06-01-13 00:26:43</td>\n      <td>2008.0</td>\n      <td>310.0</td>\n      <td>15567</td>\n      <td>1.0</td>\n      <td>1983.0</td>\n      <td>1</td>\n    </tr>\n    <tr>\n      <th>2</th>\n      <td>2028</td>\n      <td>06-01-13 00:01:47</td>\n      <td>06-01-13 00:35:35</td>\n      <td>485.0</td>\n      <td>406.0</td>\n      <td>18445</td>\n      <td>0.0</td>\n      <td>NaN</td>\n      <td>0</td>\n    </tr>\n    <tr>\n      <th>3</th>\n      <td>1829</td>\n      <td>06-01-13 00:03:47</td>\n      <td>06-01-13 00:34:16</td>\n      <td>265.0</td>\n      <td>436.0</td>\n      <td>15234</td>\n      <td>1.0</td>\n      <td>1984.0</td>\n      <td>1</td>\n    </tr>\n    <tr>\n      <th>4</th>\n      <td>899</td>\n      <td>06-01-13 00:09:25</td>\n      <td>06-01-13 00:24:24</td>\n      <td>494.0</td>\n      <td>494.0</td>\n      <td>15539</td>\n      <td>1.0</td>\n      <td>1967.0</td>\n      <td>1</td>\n    </tr>\n  </tbody>\n</table>\n</div>",
      "text/plain": "   tripduration          starttime           stoptime  start_station_id  \\\n0          2059  06-01-13 00:00:44  06-01-13 00:35:03             406.0   \n1          1521  06-01-13 00:01:22  06-01-13 00:26:43            2008.0   \n2          2028  06-01-13 00:01:47  06-01-13 00:35:35             485.0   \n3          1829  06-01-13 00:03:47  06-01-13 00:34:16             265.0   \n4           899  06-01-13 00:09:25  06-01-13 00:24:24             494.0   \n\n   end_station_id  bikeid  usertype  birthyear  gender  \n0           406.0   19599       0.0        NaN       0  \n1           310.0   15567       1.0     1983.0       1  \n2           406.0   18445       0.0        NaN       0  \n3           436.0   15234       1.0     1984.0       1  \n4           494.0   15539       1.0     1967.0       1  "
     },
     "execution_count": 3,
     "metadata": {},
     "output_type": "execute_result"
    }
   ],
   "source": [
    "nyc_name = \"Data/nyc_bikeshare\"\n",
    "\n",
    "original_nyc = pd.read_csv(nyc_name+\".csv\")\n",
    "nyc = original_nyc\n",
    "nyc.head()"
   ]
  },
  {
   "cell_type": "code",
   "execution_count": 4,
   "metadata": {},
   "outputs": [],
   "source": [
    "nyc_sub = nyc.sample(272000)"
   ]
  },
  {
   "cell_type": "code",
   "execution_count": 5,
   "metadata": {},
   "outputs": [
    {
     "data": {
      "text/html": "<div>\n<style scoped>\n    .dataframe tbody tr th:only-of-type {\n        vertical-align: middle;\n    }\n\n    .dataframe tbody tr th {\n        vertical-align: top;\n    }\n\n    .dataframe thead th {\n        text-align: right;\n    }\n</style>\n<table border=\"1\" class=\"dataframe\">\n  <thead>\n    <tr style=\"text-align: right;\">\n      <th></th>\n      <th>tripduration</th>\n      <th>starttime</th>\n      <th>stoptime</th>\n      <th>start_station_id</th>\n      <th>end_station_id</th>\n      <th>usertype</th>\n      <th>birthyear</th>\n      <th>gender</th>\n    </tr>\n  </thead>\n  <tbody>\n    <tr>\n      <th>21679149</th>\n      <td>299</td>\n      <td>01-23-19 19:49:23</td>\n      <td>01-23-19 19:54:23</td>\n      <td>432.0</td>\n      <td>266.0</td>\n      <td>1.0</td>\n      <td>1991.0</td>\n      <td>1</td>\n    </tr>\n    <tr>\n      <th>9972891</th>\n      <td>3733</td>\n      <td>09-11-16 15:59:59</td>\n      <td>09-11-16 17:02:12</td>\n      <td>457.0</td>\n      <td>469.0</td>\n      <td>0.0</td>\n      <td>NaN</td>\n      <td>0</td>\n    </tr>\n    <tr>\n      <th>4105739</th>\n      <td>628</td>\n      <td>12-29-14 14:29:28</td>\n      <td>12-29-14 14:39:56</td>\n      <td>153.0</td>\n      <td>468.0</td>\n      <td>1.0</td>\n      <td>1959.0</td>\n      <td>1</td>\n    </tr>\n    <tr>\n      <th>9909812</th>\n      <td>594</td>\n      <td>09-07-16 19:10:26</td>\n      <td>09-07-16 19:20:20</td>\n      <td>326.0</td>\n      <td>537.0</td>\n      <td>1.0</td>\n      <td>1978.0</td>\n      <td>2</td>\n    </tr>\n    <tr>\n      <th>15688970</th>\n      <td>199</td>\n      <td>11-05-17 11:07:48</td>\n      <td>11-05-17 11:11:07</td>\n      <td>3061.0</td>\n      <td>3064.0</td>\n      <td>1.0</td>\n      <td>1990.0</td>\n      <td>1</td>\n    </tr>\n  </tbody>\n</table>\n</div>",
      "text/plain": "          tripduration          starttime           stoptime  \\\n21679149           299  01-23-19 19:49:23  01-23-19 19:54:23   \n9972891           3733  09-11-16 15:59:59  09-11-16 17:02:12   \n4105739            628  12-29-14 14:29:28  12-29-14 14:39:56   \n9909812            594  09-07-16 19:10:26  09-07-16 19:20:20   \n15688970           199  11-05-17 11:07:48  11-05-17 11:11:07   \n\n          start_station_id  end_station_id  usertype  birthyear  gender  \n21679149             432.0           266.0       1.0     1991.0       1  \n9972891              457.0           469.0       0.0        NaN       0  \n4105739              153.0           468.0       1.0     1959.0       1  \n9909812              326.0           537.0       1.0     1978.0       2  \n15688970            3061.0          3064.0       1.0     1990.0       1  "
     },
     "execution_count": 5,
     "metadata": {},
     "output_type": "execute_result"
    }
   ],
   "source": [
    "pipe = pdp.ColDrop(\"bikeid\")\n",
    "pipe += pdp.DropNa(subset=[\"start_station_id\",\"end_station_id\",\"tripduration\"])\n",
    "pipe += pdp.RowDrop({\"tripduration\": lambda t : t<60})\n",
    "\n",
    "nyc_sub = pipe(nyc_sub)\n",
    "nyc_sub.head()"
   ]
  },
  {
   "cell_type": "code",
   "execution_count": 6,
   "metadata": {},
   "outputs": [
    {
     "data": {
      "text/html": "<div>\n<style scoped>\n    .dataframe tbody tr th:only-of-type {\n        vertical-align: middle;\n    }\n\n    .dataframe tbody tr th {\n        vertical-align: top;\n    }\n\n    .dataframe thead th {\n        text-align: right;\n    }\n</style>\n<table border=\"1\" class=\"dataframe\">\n  <thead>\n    <tr style=\"text-align: right;\">\n      <th></th>\n      <th>station_id</th>\n      <th>station_name</th>\n      <th>station_latitude</th>\n      <th>station_longitude</th>\n    </tr>\n  </thead>\n  <tbody>\n    <tr>\n      <th>0</th>\n      <td>72</td>\n      <td>W 52 St &amp; 11 Ave</td>\n      <td>40.767272</td>\n      <td>-73.993929</td>\n    </tr>\n    <tr>\n      <th>1</th>\n      <td>79</td>\n      <td>Franklin St &amp; W Broadway</td>\n      <td>40.719116</td>\n      <td>-74.006667</td>\n    </tr>\n    <tr>\n      <th>2</th>\n      <td>82</td>\n      <td>St James Pl &amp; Pearl St</td>\n      <td>40.711174</td>\n      <td>-74.000165</td>\n    </tr>\n    <tr>\n      <th>3</th>\n      <td>83</td>\n      <td>Atlantic Ave &amp; Fort Greene Pl</td>\n      <td>40.683826</td>\n      <td>-73.976323</td>\n    </tr>\n    <tr>\n      <th>4</th>\n      <td>116</td>\n      <td>W 17 St &amp; 8 Ave</td>\n      <td>40.741776</td>\n      <td>-74.001497</td>\n    </tr>\n  </tbody>\n</table>\n</div>",
      "text/plain": "   station_id                   station_name  station_latitude  \\\n0          72               W 52 St & 11 Ave         40.767272   \n1          79       Franklin St & W Broadway         40.719116   \n2          82         St James Pl & Pearl St         40.711174   \n3          83  Atlantic Ave & Fort Greene Pl         40.683826   \n4         116                W 17 St & 8 Ave         40.741776   \n\n   station_longitude  \n0         -73.993929  \n1         -74.006667  \n2         -74.000165  \n3         -73.976323  \n4         -74.001497  "
     },
     "execution_count": 6,
     "metadata": {},
     "output_type": "execute_result"
    }
   ],
   "source": [
    "nyc_name_key = \"Data/legend/nyc_bikeshare_key\"\n",
    "\n",
    "original_nyc_key = pd.read_csv(nyc_name_key+\".csv\")\n",
    "nyc_key = original_nyc_key\n",
    "nyc_key.head()"
   ]
  },
  {
   "cell_type": "code",
   "execution_count": 7,
   "metadata": {},
   "outputs": [
    {
     "data": {
      "text/html": "<div>\n<style scoped>\n    .dataframe tbody tr th:only-of-type {\n        vertical-align: middle;\n    }\n\n    .dataframe tbody tr th {\n        vertical-align: top;\n    }\n\n    .dataframe thead th {\n        text-align: right;\n    }\n</style>\n<table border=\"1\" class=\"dataframe\">\n  <thead>\n    <tr style=\"text-align: right;\">\n      <th></th>\n      <th>station_latitude</th>\n      <th>station_longitude</th>\n    </tr>\n    <tr>\n      <th>station_id</th>\n      <th></th>\n      <th></th>\n    </tr>\n  </thead>\n  <tbody>\n    <tr>\n      <th>72</th>\n      <td>40.767272</td>\n      <td>-73.993929</td>\n    </tr>\n    <tr>\n      <th>79</th>\n      <td>40.719116</td>\n      <td>-74.006667</td>\n    </tr>\n    <tr>\n      <th>82</th>\n      <td>40.711174</td>\n      <td>-74.000165</td>\n    </tr>\n    <tr>\n      <th>83</th>\n      <td>40.683826</td>\n      <td>-73.976323</td>\n    </tr>\n    <tr>\n      <th>116</th>\n      <td>40.741776</td>\n      <td>-74.001497</td>\n    </tr>\n  </tbody>\n</table>\n</div>",
      "text/plain": "            station_latitude  station_longitude\nstation_id                                     \n72                 40.767272         -73.993929\n79                 40.719116         -74.006667\n82                 40.711174         -74.000165\n83                 40.683826         -73.976323\n116                40.741776         -74.001497"
     },
     "execution_count": 7,
     "metadata": {},
     "output_type": "execute_result"
    }
   ],
   "source": [
    "nyc_key.set_index(\"station_id\", inplace=True)\n",
    "\n",
    "pipe_key = pdp.ColDrop(\"station_name\")\n",
    "\n",
    "nyc_key = pipe_key(nyc_key)\n",
    "nyc_key.head()"
   ]
  },
  {
   "cell_type": "code",
   "execution_count": 8,
   "metadata": {},
   "outputs": [
    {
     "data": {
      "text/html": "<div>\n<style scoped>\n    .dataframe tbody tr th:only-of-type {\n        vertical-align: middle;\n    }\n\n    .dataframe tbody tr th {\n        vertical-align: top;\n    }\n\n    .dataframe thead th {\n        text-align: right;\n    }\n</style>\n<table border=\"1\" class=\"dataframe\">\n  <thead>\n    <tr style=\"text-align: right;\">\n      <th></th>\n      <th>tripduration</th>\n      <th>starttime</th>\n      <th>stoptime</th>\n      <th>start_station_id</th>\n      <th>end_station_id</th>\n      <th>bikeid</th>\n      <th>usertype</th>\n      <th>birthyear</th>\n      <th>gender</th>\n    </tr>\n  </thead>\n  <tbody>\n    <tr>\n      <th>0</th>\n      <td>1712</td>\n      <td>11-30-11 23:58:00</td>\n      <td>12-01-11 00:26:00</td>\n      <td>D32005</td>\n      <td>D32011</td>\n      <td>B00056</td>\n      <td>1</td>\n      <td>NaN</td>\n      <td>1</td>\n    </tr>\n    <tr>\n      <th>1</th>\n      <td>313</td>\n      <td>11-30-11 23:56:00</td>\n      <td>12-01-11 00:01:00</td>\n      <td>C32008</td>\n      <td>D32011</td>\n      <td>B00133</td>\n      <td>0</td>\n      <td>NaN</td>\n      <td>0</td>\n    </tr>\n    <tr>\n      <th>2</th>\n      <td>1111</td>\n      <td>11-30-11 23:18:00</td>\n      <td>11-30-11 23:36:00</td>\n      <td>A32009</td>\n      <td>D32006</td>\n      <td>B00471</td>\n      <td>1</td>\n      <td>NaN</td>\n      <td>1</td>\n    </tr>\n    <tr>\n      <th>3</th>\n      <td>1313</td>\n      <td>11-30-11 23:15:00</td>\n      <td>11-30-11 23:37:00</td>\n      <td>A32001</td>\n      <td>D32005</td>\n      <td>B00056</td>\n      <td>1</td>\n      <td>NaN</td>\n      <td>1</td>\n    </tr>\n    <tr>\n      <th>4</th>\n      <td>345</td>\n      <td>11-30-11 22:59:00</td>\n      <td>11-30-11 23:05:00</td>\n      <td>B32008</td>\n      <td>D32006</td>\n      <td>B00174</td>\n      <td>1</td>\n      <td>NaN</td>\n      <td>1</td>\n    </tr>\n  </tbody>\n</table>\n</div>",
      "text/plain": "   tripduration          starttime           stoptime start_station_id  \\\n0          1712  11-30-11 23:58:00  12-01-11 00:26:00           D32005   \n1           313  11-30-11 23:56:00  12-01-11 00:01:00           C32008   \n2          1111  11-30-11 23:18:00  11-30-11 23:36:00           A32009   \n3          1313  11-30-11 23:15:00  11-30-11 23:37:00           A32001   \n4           345  11-30-11 22:59:00  11-30-11 23:05:00           B32008   \n\n  end_station_id  bikeid  usertype  birthyear  gender  \n0         D32011  B00056         1        NaN       1  \n1         D32011  B00133         0        NaN       0  \n2         D32006  B00471         1        NaN       1  \n3         D32005  B00056         1        NaN       1  \n4         D32006  B00174         1        NaN       1  "
     },
     "execution_count": 8,
     "metadata": {},
     "output_type": "execute_result"
    }
   ],
   "source": [
    "boston_name = \"Data/boston_bikeshare\"\n",
    "\n",
    "original_boston = pd.read_csv(boston_name+\".csv\")\n",
    "boston = original_boston\n",
    "boston.head()"
   ]
  },
  {
   "cell_type": "code",
   "execution_count": 9,
   "metadata": {},
   "outputs": [],
   "source": [
    "boston_sub = boston.sample(100000)"
   ]
  },
  {
   "cell_type": "code",
   "execution_count": 10,
   "metadata": {},
   "outputs": [
    {
     "data": {
      "text/html": "<div>\n<style scoped>\n    .dataframe tbody tr th:only-of-type {\n        vertical-align: middle;\n    }\n\n    .dataframe tbody tr th {\n        vertical-align: top;\n    }\n\n    .dataframe thead th {\n        text-align: right;\n    }\n</style>\n<table border=\"1\" class=\"dataframe\">\n  <thead>\n    <tr style=\"text-align: right;\">\n      <th></th>\n      <th>tripduration</th>\n      <th>starttime</th>\n      <th>stoptime</th>\n      <th>start_station_id</th>\n      <th>end_station_id</th>\n      <th>usertype</th>\n      <th>birthyear</th>\n      <th>gender</th>\n    </tr>\n  </thead>\n  <tbody>\n    <tr>\n      <th>10018364</th>\n      <td>756</td>\n      <td>09-21-19 14:19:47</td>\n      <td>09-21-19 14:32:23</td>\n      <td>B32020</td>\n      <td>D32042</td>\n      <td>1</td>\n      <td>1998.0</td>\n      <td>1</td>\n    </tr>\n    <tr>\n      <th>904487</th>\n      <td>503</td>\n      <td>09-27-13 18:02:00</td>\n      <td>09-27-13 18:10:00</td>\n      <td>M32021</td>\n      <td>M32014</td>\n      <td>1</td>\n      <td>NaN</td>\n      <td>1</td>\n    </tr>\n    <tr>\n      <th>8676678</th>\n      <td>421</td>\n      <td>05-09-19 07:46:05</td>\n      <td>05-09-19 07:53:07</td>\n      <td>M32010</td>\n      <td>C32010</td>\n      <td>1</td>\n      <td>1987.0</td>\n      <td>2</td>\n    </tr>\n    <tr>\n      <th>1620680</th>\n      <td>169</td>\n      <td>06-23-14 17:13:00</td>\n      <td>06-23-14 17:16:00</td>\n      <td>D32008</td>\n      <td>D32006</td>\n      <td>1</td>\n      <td>NaN</td>\n      <td>1</td>\n    </tr>\n    <tr>\n      <th>6809175</th>\n      <td>933</td>\n      <td>05-20-18 18:18:25</td>\n      <td>05-20-18 18:33:58</td>\n      <td>B32023</td>\n      <td>B32013</td>\n      <td>1</td>\n      <td>1952.0</td>\n      <td>1</td>\n    </tr>\n  </tbody>\n</table>\n</div>",
      "text/plain": "          tripduration          starttime           stoptime start_station_id  \\\n10018364           756  09-21-19 14:19:47  09-21-19 14:32:23           B32020   \n904487             503  09-27-13 18:02:00  09-27-13 18:10:00           M32021   \n8676678            421  05-09-19 07:46:05  05-09-19 07:53:07           M32010   \n1620680            169  06-23-14 17:13:00  06-23-14 17:16:00           D32008   \n6809175            933  05-20-18 18:18:25  05-20-18 18:33:58           B32023   \n\n         end_station_id  usertype  birthyear  gender  \n10018364         D32042         1     1998.0       1  \n904487           M32014         1        NaN       1  \n8676678          C32010         1     1987.0       2  \n1620680          D32006         1        NaN       1  \n6809175          B32013         1     1952.0       1  "
     },
     "execution_count": 10,
     "metadata": {},
     "output_type": "execute_result"
    }
   ],
   "source": [
    "boston_sub = pipe(boston_sub)\n",
    "boston_sub.head()"
   ]
  },
  {
   "cell_type": "code",
   "execution_count": 11,
   "metadata": {},
   "outputs": [
    {
     "data": {
      "text/html": "<div>\n<style scoped>\n    .dataframe tbody tr th:only-of-type {\n        vertical-align: middle;\n    }\n\n    .dataframe tbody tr th {\n        vertical-align: top;\n    }\n\n    .dataframe thead th {\n        text-align: right;\n    }\n</style>\n<table border=\"1\" class=\"dataframe\">\n  <thead>\n    <tr style=\"text-align: right;\">\n      <th></th>\n      <th>station_latitude</th>\n      <th>station_longitude</th>\n      <th>district</th>\n      <th>status</th>\n    </tr>\n    <tr>\n      <th>station_id</th>\n      <th></th>\n      <th></th>\n      <th></th>\n      <th></th>\n    </tr>\n  </thead>\n  <tbody>\n    <tr>\n      <th>A32000</th>\n      <td>42.353391</td>\n      <td>-71.044571</td>\n      <td>Boston</td>\n      <td>Active</td>\n    </tr>\n    <tr>\n      <th>A32001</th>\n      <td>42.353334</td>\n      <td>-71.137313</td>\n      <td>Boston</td>\n      <td>Active</td>\n    </tr>\n    <tr>\n      <th>A32002</th>\n      <td>42.351692</td>\n      <td>-71.119035</td>\n      <td>Boston</td>\n      <td>Active</td>\n    </tr>\n    <tr>\n      <th>A32003</th>\n      <td>42.350406</td>\n      <td>-71.108279</td>\n      <td>Boston</td>\n      <td>Active</td>\n    </tr>\n    <tr>\n      <th>A32004</th>\n      <td>42.338629</td>\n      <td>-71.106500</td>\n      <td>Boston</td>\n      <td>Active</td>\n    </tr>\n  </tbody>\n</table>\n</div>",
      "text/plain": "            station_latitude  station_longitude district  status\nstation_id                                                      \nA32000             42.353391         -71.044571   Boston  Active\nA32001             42.353334         -71.137313   Boston  Active\nA32002             42.351692         -71.119035   Boston  Active\nA32003             42.350406         -71.108279   Boston  Active\nA32004             42.338629         -71.106500   Boston  Active"
     },
     "execution_count": 11,
     "metadata": {},
     "output_type": "execute_result"
    }
   ],
   "source": [
    "boston_name_key = \"Data/legend/boston_bikeshare_key\"\n",
    "\n",
    "original_boston_key = pd.read_csv(boston_name_key+\".csv\")\n",
    "boston_key = original_boston_key\n",
    "\n",
    "boston_key.set_index(\"station_id\", inplace=True)\n",
    "\n",
    "boston_key = pipe_key(boston_key)\n",
    "\n",
    "boston_key_pipe = pdp.ColDrop(\"total_docks\")\n",
    "boston_key_pipe += pdp.RowDrop({\"status\": lambda s: s!=\"Active\"})\n",
    "\n",
    "boston_key = boston_key_pipe(boston_key)\n",
    "boston_key.head()"
   ]
  },
  {
   "cell_type": "code",
   "execution_count": 12,
   "metadata": {},
   "outputs": [],
   "source": [
    "nyc_sub.to_csv(\"nyc_bikeshare_sub.csv\")\n",
    "boston_sub.to_csv(\"boston_bikeshare_sub.csv\")"
   ]
  },
  {
   "cell_type": "code",
   "execution_count": 127,
   "metadata": {},
   "outputs": [],
   "source": [
    "nyc_sub = nyc_sub[nyc_sub.start_station_id != nyc_sub.end_station_id]\n",
    "boston_sub = boston_sub[boston_sub.start_station_id != boston_sub.end_station_id]"
   ]
  },
  {
   "cell_type": "code",
   "execution_count": null,
   "metadata": {},
   "outputs": [],
   "source": []
  }
 ],
 "metadata": {
  "kernelspec": {
   "display_name": "Python 3",
   "language": "python",
   "name": "python3"
  },
  "language_info": {
   "codemirror_mode": {
    "name": "ipython",
    "version": 3
   },
   "file_extension": ".py",
   "mimetype": "text/x-python",
   "name": "python",
   "nbconvert_exporter": "python",
   "pygments_lexer": "ipython3",
   "version": "3.8.1-final"
  }
 },
 "nbformat": 4,
 "nbformat_minor": 4
}