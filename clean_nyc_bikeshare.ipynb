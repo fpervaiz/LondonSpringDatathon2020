{
 "cells": [
  {
   "cell_type": "code",
   "execution_count": 4,
   "metadata": {},
   "outputs": [],
   "source": [
    "import pandas as pd\n",
    "import numpy as np\n",
    "import math\n",
    "import matplotlib as plt\n",
    "import pdpipe as pdp\n",
    "from random import *"
   ]
  },
  {
   "cell_type": "code",
   "execution_count": 5,
   "metadata": {},
   "outputs": [
    {
     "data": {
      "text/html": "<div>\n<style scoped>\n    .dataframe tbody tr th:only-of-type {\n        vertical-align: middle;\n    }\n\n    .dataframe tbody tr th {\n        vertical-align: top;\n    }\n\n    .dataframe thead th {\n        text-align: right;\n    }\n</style>\n<table border=\"1\" class=\"dataframe\">\n  <thead>\n    <tr style=\"text-align: right;\">\n      <th></th>\n      <th>tripduration</th>\n      <th>starttime</th>\n      <th>stoptime</th>\n      <th>start_station_id</th>\n      <th>end_station_id</th>\n      <th>bikeid</th>\n      <th>usertype</th>\n      <th>birthyear</th>\n      <th>gender</th>\n    </tr>\n  </thead>\n  <tbody>\n    <tr>\n      <th>0</th>\n      <td>2059</td>\n      <td>06-01-13 00:00:44</td>\n      <td>06-01-13 00:35:03</td>\n      <td>406.0</td>\n      <td>406.0</td>\n      <td>19599</td>\n      <td>0.0</td>\n      <td>NaN</td>\n      <td>0</td>\n    </tr>\n    <tr>\n      <th>1</th>\n      <td>1521</td>\n      <td>06-01-13 00:01:22</td>\n      <td>06-01-13 00:26:43</td>\n      <td>2008.0</td>\n      <td>310.0</td>\n      <td>15567</td>\n      <td>1.0</td>\n      <td>1983.0</td>\n      <td>1</td>\n    </tr>\n    <tr>\n      <th>2</th>\n      <td>2028</td>\n      <td>06-01-13 00:01:47</td>\n      <td>06-01-13 00:35:35</td>\n      <td>485.0</td>\n      <td>406.0</td>\n      <td>18445</td>\n      <td>0.0</td>\n      <td>NaN</td>\n      <td>0</td>\n    </tr>\n    <tr>\n      <th>3</th>\n      <td>1829</td>\n      <td>06-01-13 00:03:47</td>\n      <td>06-01-13 00:34:16</td>\n      <td>265.0</td>\n      <td>436.0</td>\n      <td>15234</td>\n      <td>1.0</td>\n      <td>1984.0</td>\n      <td>1</td>\n    </tr>\n    <tr>\n      <th>4</th>\n      <td>899</td>\n      <td>06-01-13 00:09:25</td>\n      <td>06-01-13 00:24:24</td>\n      <td>494.0</td>\n      <td>494.0</td>\n      <td>15539</td>\n      <td>1.0</td>\n      <td>1967.0</td>\n      <td>1</td>\n    </tr>\n  </tbody>\n</table>\n</div>",
      "text/plain": "   tripduration          starttime           stoptime  start_station_id  \\\n0          2059  06-01-13 00:00:44  06-01-13 00:35:03             406.0   \n1          1521  06-01-13 00:01:22  06-01-13 00:26:43            2008.0   \n2          2028  06-01-13 00:01:47  06-01-13 00:35:35             485.0   \n3          1829  06-01-13 00:03:47  06-01-13 00:34:16             265.0   \n4           899  06-01-13 00:09:25  06-01-13 00:24:24             494.0   \n\n   end_station_id  bikeid  usertype  birthyear  gender  \n0           406.0   19599       0.0        NaN       0  \n1           310.0   15567       1.0     1983.0       1  \n2           406.0   18445       0.0        NaN       0  \n3           436.0   15234       1.0     1984.0       1  \n4           494.0   15539       1.0     1967.0       1  "
     },
     "execution_count": 5,
     "metadata": {},
     "output_type": "execute_result"
    }
   ],
   "source": [
    "nyc_name = \"Data/nyc_bikeshare\"\n",
    "\n",
    "original_nyc = pd.read_csv(nyc_name+\".csv\")\n",
    "nyc = original_nyc\n",
    "nyc.head()"
   ]
  },
  {
   "cell_type": "code",
   "execution_count": null,
   "metadata": {},
   "outputs": [],
   "source": [
    "pipe = pdp.ColDrop(\"bikeid\")\n",
    "pipe += pdp.DropNa(subset=[\"start_station_id\",\"end_station_id\",\"tripduration\"])\n",
    "pipe += pdp.RowDrop({\"tripduration\": lambda t : t<60})\n",
    "\n",
    "nyc = pipe(nyc)\n",
    "nyc.head()"
   ]
  },
  {
   "cell_type": "code",
   "execution_count": null,
   "metadata": {},
   "outputs": [],
   "source": [
    "nyc_name_key = \"Data/legend/nyc_bikeshare_key\"\n",
    "\n",
    "original_nyc_key = pd.read_csv(nyc_name_key+\".csv\")\n",
    "nyc_key = original_nyc_key\n",
    "nyc_key.head()"
   ]
  },
  {
   "cell_type": "code",
   "execution_count": null,
   "metadata": {},
   "outputs": [],
   "source": [
    "nyc_key.set_index(\"station_id\", inplace=True)\n",
    "\n",
    "pipe_key = pdp.ColDrop(\"station_name\")\n",
    "\n",
    "nyc_key = pipe_key(nyc_key)\n",
    "nyc_key.head()"
   ]
  },
  {
   "cell_type": "code",
   "execution_count": null,
   "metadata": {},
   "outputs": [],
   "source": [
    "boston_name = \"Data/boston_bikeshare\"\n",
    "\n",
    "original_boston = pd.read_csv(boston_name+\".csv\")\n",
    "boston = original_boston\n",
    "boston.head()"
   ]
  },
  {
   "cell_type": "code",
   "execution_count": null,
   "metadata": {},
   "outputs": [],
   "source": [
    "boston = pipe(boston)\n",
    "boston.head()"
   ]
  },
  {
   "cell_type": "code",
   "execution_count": null,
   "metadata": {},
   "outputs": [],
   "source": [
    "boston_name_key = \"Data/legend/boston_bikeshare_key\"\n",
    "\n",
    "original_boston_key = pd.read_csv(boston_name_key+\".csv\")\n",
    "boston_key = original_boston_key\n",
    "\n",
    "boston_key.set_index(\"station_id\", inplace=True)\n",
    "\n",
    "boston_key = pipe_key(boston_key)\n",
    "\n",
    "boston_key_pipe = pdp.ColDrop(\"total_docks\")\n",
    "boston_key_pipe += pdp.RowDrop({\"status\": lambda s: s!=\"Active\"})\n",
    "\n",
    "boston_key = bos_key_pipe(boston_key)\n",
    "boston_key.head()"
   ]
  },
  {
   "cell_type": "code",
   "execution_count": null,
   "metadata": {},
   "outputs": [],
   "source": []
  }
 ],
 "metadata": {
  "kernelspec": {
   "display_name": "Python 3",
   "language": "python",
   "name": "python3"
  },
  "language_info": {
   "codemirror_mode": {
    "name": "ipython",
    "version": 3
   },
   "file_extension": ".py",
   "mimetype": "text/x-python",
   "name": "python",
   "nbconvert_exporter": "python",
   "pygments_lexer": "ipython3",
   "version": "3.8.1-final"
  }
 },
 "nbformat": 4,
 "nbformat_minor": 4
}