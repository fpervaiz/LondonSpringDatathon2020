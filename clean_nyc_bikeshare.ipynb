{
 "cells": [
  {
   "cell_type": "code",
   "execution_count": 3,
   "metadata": {},
   "outputs": [],
   "source": [
    "import pandas as pd\n",
    "import numpy as np\n",
    "import math\n",
    "import matplotlib as plt\n",
    "import pdpipe as pdp\n",
    "from random import *"
   ]
  },
  {
   "cell_type": "code",
   "execution_count": 12,
   "metadata": {},
   "outputs": [
    {
     "data": {
      "text/html": "<div>\n<style scoped>\n    .dataframe tbody tr th:only-of-type {\n        vertical-align: middle;\n    }\n\n    .dataframe tbody tr th {\n        vertical-align: top;\n    }\n\n    .dataframe thead th {\n        text-align: right;\n    }\n</style>\n<table border=\"1\" class=\"dataframe\">\n  <thead>\n    <tr style=\"text-align: right;\">\n      <th></th>\n      <th>tripduration</th>\n      <th>starttime</th>\n      <th>stoptime</th>\n      <th>start_station_id</th>\n      <th>end_station_id</th>\n      <th>bikeid</th>\n      <th>usertype</th>\n      <th>birthyear</th>\n      <th>gender</th>\n    </tr>\n  </thead>\n  <tbody>\n    <tr>\n      <th>0</th>\n      <td>2059</td>\n      <td>06-01-13 00:00:44</td>\n      <td>06-01-13 00:35:03</td>\n      <td>406.0</td>\n      <td>406.0</td>\n      <td>19599</td>\n      <td>0.0</td>\n      <td>NaN</td>\n      <td>0</td>\n    </tr>\n    <tr>\n      <th>1</th>\n      <td>1521</td>\n      <td>06-01-13 00:01:22</td>\n      <td>06-01-13 00:26:43</td>\n      <td>2008.0</td>\n      <td>310.0</td>\n      <td>15567</td>\n      <td>1.0</td>\n      <td>1983.0</td>\n      <td>1</td>\n    </tr>\n    <tr>\n      <th>2</th>\n      <td>2028</td>\n      <td>06-01-13 00:01:47</td>\n      <td>06-01-13 00:35:35</td>\n      <td>485.0</td>\n      <td>406.0</td>\n      <td>18445</td>\n      <td>0.0</td>\n      <td>NaN</td>\n      <td>0</td>\n    </tr>\n    <tr>\n      <th>3</th>\n      <td>1829</td>\n      <td>06-01-13 00:03:47</td>\n      <td>06-01-13 00:34:16</td>\n      <td>265.0</td>\n      <td>436.0</td>\n      <td>15234</td>\n      <td>1.0</td>\n      <td>1984.0</td>\n      <td>1</td>\n    </tr>\n    <tr>\n      <th>4</th>\n      <td>899</td>\n      <td>06-01-13 00:09:25</td>\n      <td>06-01-13 00:24:24</td>\n      <td>494.0</td>\n      <td>494.0</td>\n      <td>15539</td>\n      <td>1.0</td>\n      <td>1967.0</td>\n      <td>1</td>\n    </tr>\n  </tbody>\n</table>\n</div>",
      "text/plain": "   tripduration          starttime           stoptime  start_station_id  \\\n0          2059  06-01-13 00:00:44  06-01-13 00:35:03             406.0   \n1          1521  06-01-13 00:01:22  06-01-13 00:26:43            2008.0   \n2          2028  06-01-13 00:01:47  06-01-13 00:35:35             485.0   \n3          1829  06-01-13 00:03:47  06-01-13 00:34:16             265.0   \n4           899  06-01-13 00:09:25  06-01-13 00:24:24             494.0   \n\n   end_station_id  bikeid  usertype  birthyear  gender  \n0           406.0   19599       0.0        NaN       0  \n1           310.0   15567       1.0     1983.0       1  \n2           406.0   18445       0.0        NaN       0  \n3           436.0   15234       1.0     1984.0       1  \n4           494.0   15539       1.0     1967.0       1  "
     },
     "execution_count": 12,
     "metadata": {},
     "output_type": "execute_result"
    }
   ],
   "source": [
    "nyc_name = \"Data/nyc_bikeshare\"\n",
    "\n",
    "original_nyc = pd.read_csv(nyc_name+\".csv\")\n",
    "nyc = original_nyc\n",
    "nyc.head()"
   ]
  },
  {
   "cell_type": "code",
   "execution_count": 18,
   "metadata": {},
   "outputs": [],
   "source": [
    "nyc_sub = nyc.sample(272000)"
   ]
  },
  {
   "cell_type": "code",
   "execution_count": 19,
   "metadata": {},
   "outputs": [
    {
     "data": {
      "text/html": "<div>\n<style scoped>\n    .dataframe tbody tr th:only-of-type {\n        vertical-align: middle;\n    }\n\n    .dataframe tbody tr th {\n        vertical-align: top;\n    }\n\n    .dataframe thead th {\n        text-align: right;\n    }\n</style>\n<table border=\"1\" class=\"dataframe\">\n  <thead>\n    <tr style=\"text-align: right;\">\n      <th></th>\n      <th>tripduration</th>\n      <th>starttime</th>\n      <th>stoptime</th>\n      <th>start_station_id</th>\n      <th>end_station_id</th>\n      <th>usertype</th>\n      <th>birthyear</th>\n      <th>gender</th>\n    </tr>\n  </thead>\n  <tbody>\n    <tr>\n      <th>13129637</th>\n      <td>934</td>\n      <td>06-13-17 12:48:17</td>\n      <td>06-13-17 13:03:51</td>\n      <td>3165.0</td>\n      <td>442.0</td>\n      <td>1.0</td>\n      <td>1989.0</td>\n      <td>1</td>\n    </tr>\n    <tr>\n      <th>14072020</th>\n      <td>625</td>\n      <td>08-08-17 19:33:27</td>\n      <td>08-08-17 19:43:52</td>\n      <td>3142.0</td>\n      <td>3130.0</td>\n      <td>1.0</td>\n      <td>1965.0</td>\n      <td>1</td>\n    </tr>\n    <tr>\n      <th>22419984</th>\n      <td>769</td>\n      <td>03-31-19 19:21:01</td>\n      <td>03-31-19 19:33:50</td>\n      <td>380.0</td>\n      <td>327.0</td>\n      <td>1.0</td>\n      <td>1968.0</td>\n      <td>2</td>\n    </tr>\n    <tr>\n      <th>5745761</th>\n      <td>569</td>\n      <td>08-24-15 16:27:00</td>\n      <td>08-24-15 16:36:29</td>\n      <td>329.0</td>\n      <td>426.0</td>\n      <td>1.0</td>\n      <td>1973.0</td>\n      <td>1</td>\n    </tr>\n    <tr>\n      <th>19722485</th>\n      <td>2487</td>\n      <td>09-01-18 23:46:23</td>\n      <td>09-02-18 00:27:51</td>\n      <td>537.0</td>\n      <td>3552.0</td>\n      <td>1.0</td>\n      <td>1992.0</td>\n      <td>1</td>\n    </tr>\n  </tbody>\n</table>\n</div>",
      "text/plain": "          tripduration          starttime           stoptime  \\\n13129637           934  06-13-17 12:48:17  06-13-17 13:03:51   \n14072020           625  08-08-17 19:33:27  08-08-17 19:43:52   \n22419984           769  03-31-19 19:21:01  03-31-19 19:33:50   \n5745761            569  08-24-15 16:27:00  08-24-15 16:36:29   \n19722485          2487  09-01-18 23:46:23  09-02-18 00:27:51   \n\n          start_station_id  end_station_id  usertype  birthyear  gender  \n13129637            3165.0           442.0       1.0     1989.0       1  \n14072020            3142.0          3130.0       1.0     1965.0       1  \n22419984             380.0           327.0       1.0     1968.0       2  \n5745761              329.0           426.0       1.0     1973.0       1  \n19722485             537.0          3552.0       1.0     1992.0       1  "
     },
     "execution_count": 19,
     "metadata": {},
     "output_type": "execute_result"
    }
   ],
   "source": [
    "pipe = pdp.ColDrop(\"bikeid\")\n",
    "pipe += pdp.DropNa(subset=[\"start_station_id\",\"end_station_id\",\"tripduration\"])\n",
    "pipe += pdp.RowDrop({\"tripduration\": lambda t : t<60})\n",
    "\n",
    "nyc_sub = pipe(nyc_sub)\n",
    "nyc_sub.head()"
   ]
  },
  {
   "cell_type": "code",
   "execution_count": 20,
   "metadata": {},
   "outputs": [
    {
     "data": {
      "text/html": "<div>\n<style scoped>\n    .dataframe tbody tr th:only-of-type {\n        vertical-align: middle;\n    }\n\n    .dataframe tbody tr th {\n        vertical-align: top;\n    }\n\n    .dataframe thead th {\n        text-align: right;\n    }\n</style>\n<table border=\"1\" class=\"dataframe\">\n  <thead>\n    <tr style=\"text-align: right;\">\n      <th></th>\n      <th>station_id</th>\n      <th>station_name</th>\n      <th>station_latitude</th>\n      <th>station_longitude</th>\n    </tr>\n  </thead>\n  <tbody>\n    <tr>\n      <th>0</th>\n      <td>72</td>\n      <td>W 52 St &amp; 11 Ave</td>\n      <td>40.767272</td>\n      <td>-73.993929</td>\n    </tr>\n    <tr>\n      <th>1</th>\n      <td>79</td>\n      <td>Franklin St &amp; W Broadway</td>\n      <td>40.719116</td>\n      <td>-74.006667</td>\n    </tr>\n    <tr>\n      <th>2</th>\n      <td>82</td>\n      <td>St James Pl &amp; Pearl St</td>\n      <td>40.711174</td>\n      <td>-74.000165</td>\n    </tr>\n    <tr>\n      <th>3</th>\n      <td>83</td>\n      <td>Atlantic Ave &amp; Fort Greene Pl</td>\n      <td>40.683826</td>\n      <td>-73.976323</td>\n    </tr>\n    <tr>\n      <th>4</th>\n      <td>116</td>\n      <td>W 17 St &amp; 8 Ave</td>\n      <td>40.741776</td>\n      <td>-74.001497</td>\n    </tr>\n  </tbody>\n</table>\n</div>",
      "text/plain": "   station_id                   station_name  station_latitude  \\\n0          72               W 52 St & 11 Ave         40.767272   \n1          79       Franklin St & W Broadway         40.719116   \n2          82         St James Pl & Pearl St         40.711174   \n3          83  Atlantic Ave & Fort Greene Pl         40.683826   \n4         116                W 17 St & 8 Ave         40.741776   \n\n   station_longitude  \n0         -73.993929  \n1         -74.006667  \n2         -74.000165  \n3         -73.976323  \n4         -74.001497  "
     },
     "execution_count": 20,
     "metadata": {},
     "output_type": "execute_result"
    }
   ],
   "source": [
    "nyc_name_key = \"Data/legend/nyc_bikeshare_key\"\n",
    "\n",
    "original_nyc_key = pd.read_csv(nyc_name_key+\".csv\")\n",
    "nyc_key = original_nyc_key\n",
    "nyc_key.head()"
   ]
  },
  {
   "cell_type": "code",
   "execution_count": 21,
   "metadata": {},
   "outputs": [
    {
     "data": {
      "text/html": "<div>\n<style scoped>\n    .dataframe tbody tr th:only-of-type {\n        vertical-align: middle;\n    }\n\n    .dataframe tbody tr th {\n        vertical-align: top;\n    }\n\n    .dataframe thead th {\n        text-align: right;\n    }\n</style>\n<table border=\"1\" class=\"dataframe\">\n  <thead>\n    <tr style=\"text-align: right;\">\n      <th></th>\n      <th>station_latitude</th>\n      <th>station_longitude</th>\n    </tr>\n    <tr>\n      <th>station_id</th>\n      <th></th>\n      <th></th>\n    </tr>\n  </thead>\n  <tbody>\n    <tr>\n      <th>72</th>\n      <td>40.767272</td>\n      <td>-73.993929</td>\n    </tr>\n    <tr>\n      <th>79</th>\n      <td>40.719116</td>\n      <td>-74.006667</td>\n    </tr>\n    <tr>\n      <th>82</th>\n      <td>40.711174</td>\n      <td>-74.000165</td>\n    </tr>\n    <tr>\n      <th>83</th>\n      <td>40.683826</td>\n      <td>-73.976323</td>\n    </tr>\n    <tr>\n      <th>116</th>\n      <td>40.741776</td>\n      <td>-74.001497</td>\n    </tr>\n  </tbody>\n</table>\n</div>",
      "text/plain": "            station_latitude  station_longitude\nstation_id                                     \n72                 40.767272         -73.993929\n79                 40.719116         -74.006667\n82                 40.711174         -74.000165\n83                 40.683826         -73.976323\n116                40.741776         -74.001497"
     },
     "execution_count": 21,
     "metadata": {},
     "output_type": "execute_result"
    }
   ],
   "source": [
    "nyc_key.set_index(\"station_id\", inplace=True)\n",
    "\n",
    "pipe_key = pdp.ColDrop(\"station_name\")\n",
    "\n",
    "nyc_key = pipe_key(nyc_key)\n",
    "nyc_key.head()"
   ]
  },
  {
   "cell_type": "code",
   "execution_count": 22,
   "metadata": {},
   "outputs": [
    {
     "data": {
      "text/html": "<div>\n<style scoped>\n    .dataframe tbody tr th:only-of-type {\n        vertical-align: middle;\n    }\n\n    .dataframe tbody tr th {\n        vertical-align: top;\n    }\n\n    .dataframe thead th {\n        text-align: right;\n    }\n</style>\n<table border=\"1\" class=\"dataframe\">\n  <thead>\n    <tr style=\"text-align: right;\">\n      <th></th>\n      <th>tripduration</th>\n      <th>starttime</th>\n      <th>stoptime</th>\n      <th>start_station_id</th>\n      <th>end_station_id</th>\n      <th>bikeid</th>\n      <th>usertype</th>\n      <th>birthyear</th>\n      <th>gender</th>\n    </tr>\n  </thead>\n  <tbody>\n    <tr>\n      <th>0</th>\n      <td>1712</td>\n      <td>11-30-11 23:58:00</td>\n      <td>12-01-11 00:26:00</td>\n      <td>D32005</td>\n      <td>D32011</td>\n      <td>B00056</td>\n      <td>1</td>\n      <td>NaN</td>\n      <td>1</td>\n    </tr>\n    <tr>\n      <th>1</th>\n      <td>313</td>\n      <td>11-30-11 23:56:00</td>\n      <td>12-01-11 00:01:00</td>\n      <td>C32008</td>\n      <td>D32011</td>\n      <td>B00133</td>\n      <td>0</td>\n      <td>NaN</td>\n      <td>0</td>\n    </tr>\n    <tr>\n      <th>2</th>\n      <td>1111</td>\n      <td>11-30-11 23:18:00</td>\n      <td>11-30-11 23:36:00</td>\n      <td>A32009</td>\n      <td>D32006</td>\n      <td>B00471</td>\n      <td>1</td>\n      <td>NaN</td>\n      <td>1</td>\n    </tr>\n    <tr>\n      <th>3</th>\n      <td>1313</td>\n      <td>11-30-11 23:15:00</td>\n      <td>11-30-11 23:37:00</td>\n      <td>A32001</td>\n      <td>D32005</td>\n      <td>B00056</td>\n      <td>1</td>\n      <td>NaN</td>\n      <td>1</td>\n    </tr>\n    <tr>\n      <th>4</th>\n      <td>345</td>\n      <td>11-30-11 22:59:00</td>\n      <td>11-30-11 23:05:00</td>\n      <td>B32008</td>\n      <td>D32006</td>\n      <td>B00174</td>\n      <td>1</td>\n      <td>NaN</td>\n      <td>1</td>\n    </tr>\n  </tbody>\n</table>\n</div>",
      "text/plain": "   tripduration          starttime           stoptime start_station_id  \\\n0          1712  11-30-11 23:58:00  12-01-11 00:26:00           D32005   \n1           313  11-30-11 23:56:00  12-01-11 00:01:00           C32008   \n2          1111  11-30-11 23:18:00  11-30-11 23:36:00           A32009   \n3          1313  11-30-11 23:15:00  11-30-11 23:37:00           A32001   \n4           345  11-30-11 22:59:00  11-30-11 23:05:00           B32008   \n\n  end_station_id  bikeid  usertype  birthyear  gender  \n0         D32011  B00056         1        NaN       1  \n1         D32011  B00133         0        NaN       0  \n2         D32006  B00471         1        NaN       1  \n3         D32005  B00056         1        NaN       1  \n4         D32006  B00174         1        NaN       1  "
     },
     "execution_count": 22,
     "metadata": {},
     "output_type": "execute_result"
    }
   ],
   "source": [
    "boston_name = \"Data/boston_bikeshare\"\n",
    "\n",
    "original_boston = pd.read_csv(boston_name+\".csv\")\n",
    "boston = original_boston\n",
    "boston.head()"
   ]
  },
  {
   "cell_type": "code",
   "execution_count": 23,
   "metadata": {},
   "outputs": [],
   "source": [
    "boston_sub = boston.sample(100000)"
   ]
  },
  {
   "cell_type": "code",
   "execution_count": 24,
   "metadata": {},
   "outputs": [
    {
     "data": {
      "text/html": "<div>\n<style scoped>\n    .dataframe tbody tr th:only-of-type {\n        vertical-align: middle;\n    }\n\n    .dataframe tbody tr th {\n        vertical-align: top;\n    }\n\n    .dataframe thead th {\n        text-align: right;\n    }\n</style>\n<table border=\"1\" class=\"dataframe\">\n  <thead>\n    <tr style=\"text-align: right;\">\n      <th></th>\n      <th>tripduration</th>\n      <th>starttime</th>\n      <th>stoptime</th>\n      <th>start_station_id</th>\n      <th>end_station_id</th>\n      <th>usertype</th>\n      <th>birthyear</th>\n      <th>gender</th>\n    </tr>\n  </thead>\n  <tbody>\n    <tr>\n      <th>4297169</th>\n      <td>1326</td>\n      <td>06-24-16 18:06:36</td>\n      <td>06-24-16 18:28:43</td>\n      <td>D32010</td>\n      <td>C32028</td>\n      <td>0</td>\n      <td>NaN</td>\n      <td>0</td>\n    </tr>\n    <tr>\n      <th>1352590</th>\n      <td>665</td>\n      <td>06-20-13 09:08:00</td>\n      <td>06-20-13 09:19:00</td>\n      <td>M32002</td>\n      <td>B32018</td>\n      <td>1</td>\n      <td>NaN</td>\n      <td>1</td>\n    </tr>\n    <tr>\n      <th>2258534</th>\n      <td>1529</td>\n      <td>09-28-14 11:34:00</td>\n      <td>09-28-14 12:00:00</td>\n      <td>M32012</td>\n      <td>D32016</td>\n      <td>0</td>\n      <td>NaN</td>\n      <td>0</td>\n    </tr>\n    <tr>\n      <th>5716681</th>\n      <td>747</td>\n      <td>07-25-17 20:13:18</td>\n      <td>07-25-17 20:25:46</td>\n      <td>D32005</td>\n      <td>C32012</td>\n      <td>1</td>\n      <td>1990.0</td>\n      <td>1</td>\n    </tr>\n    <tr>\n      <th>3615441</th>\n      <td>212</td>\n      <td>09-29-15 10:59:01</td>\n      <td>09-29-15 11:02:34</td>\n      <td>M32006</td>\n      <td>M32005</td>\n      <td>1</td>\n      <td>1997.0</td>\n      <td>1</td>\n    </tr>\n  </tbody>\n</table>\n</div>",
      "text/plain": "         tripduration          starttime           stoptime start_station_id  \\\n4297169          1326  06-24-16 18:06:36  06-24-16 18:28:43           D32010   \n1352590           665  06-20-13 09:08:00  06-20-13 09:19:00           M32002   \n2258534          1529  09-28-14 11:34:00  09-28-14 12:00:00           M32012   \n5716681           747  07-25-17 20:13:18  07-25-17 20:25:46           D32005   \n3615441           212  09-29-15 10:59:01  09-29-15 11:02:34           M32006   \n\n        end_station_id  usertype  birthyear  gender  \n4297169         C32028         0        NaN       0  \n1352590         B32018         1        NaN       1  \n2258534         D32016         0        NaN       0  \n5716681         C32012         1     1990.0       1  \n3615441         M32005         1     1997.0       1  "
     },
     "execution_count": 24,
     "metadata": {},
     "output_type": "execute_result"
    }
   ],
   "source": [
    "boston_sub = pipe(boston_sub)\n",
    "boston_sub.head()"
   ]
  },
  {
   "cell_type": "code",
   "execution_count": 26,
   "metadata": {},
   "outputs": [
    {
     "data": {
      "text/html": "<div>\n<style scoped>\n    .dataframe tbody tr th:only-of-type {\n        vertical-align: middle;\n    }\n\n    .dataframe tbody tr th {\n        vertical-align: top;\n    }\n\n    .dataframe thead th {\n        text-align: right;\n    }\n</style>\n<table border=\"1\" class=\"dataframe\">\n  <thead>\n    <tr style=\"text-align: right;\">\n      <th></th>\n      <th>station_latitude</th>\n      <th>station_longitude</th>\n      <th>district</th>\n      <th>status</th>\n    </tr>\n    <tr>\n      <th>station_id</th>\n      <th></th>\n      <th></th>\n      <th></th>\n      <th></th>\n    </tr>\n  </thead>\n  <tbody>\n    <tr>\n      <th>A32000</th>\n      <td>42.353391</td>\n      <td>-71.044571</td>\n      <td>Boston</td>\n      <td>Active</td>\n    </tr>\n    <tr>\n      <th>A32001</th>\n      <td>42.353334</td>\n      <td>-71.137313</td>\n      <td>Boston</td>\n      <td>Active</td>\n    </tr>\n    <tr>\n      <th>A32002</th>\n      <td>42.351692</td>\n      <td>-71.119035</td>\n      <td>Boston</td>\n      <td>Active</td>\n    </tr>\n    <tr>\n      <th>A32003</th>\n      <td>42.350406</td>\n      <td>-71.108279</td>\n      <td>Boston</td>\n      <td>Active</td>\n    </tr>\n    <tr>\n      <th>A32004</th>\n      <td>42.338629</td>\n      <td>-71.106500</td>\n      <td>Boston</td>\n      <td>Active</td>\n    </tr>\n  </tbody>\n</table>\n</div>",
      "text/plain": "            station_latitude  station_longitude district  status\nstation_id                                                      \nA32000             42.353391         -71.044571   Boston  Active\nA32001             42.353334         -71.137313   Boston  Active\nA32002             42.351692         -71.119035   Boston  Active\nA32003             42.350406         -71.108279   Boston  Active\nA32004             42.338629         -71.106500   Boston  Active"
     },
     "execution_count": 26,
     "metadata": {},
     "output_type": "execute_result"
    }
   ],
   "source": [
    "boston_name_key = \"Data/legend/boston_bikeshare_key\"\n",
    "\n",
    "original_boston_key = pd.read_csv(boston_name_key+\".csv\")\n",
    "boston_key = original_boston_key\n",
    "\n",
    "boston_key.set_index(\"station_id\", inplace=True)\n",
    "\n",
    "boston_key = pipe_key(boston_key)\n",
    "\n",
    "boston_key_pipe = pdp.ColDrop(\"total_docks\")\n",
    "boston_key_pipe += pdp.RowDrop({\"status\": lambda s: s!=\"Active\"})\n",
    "\n",
    "boston_key = boston_key_pipe(boston_key)\n",
    "boston_key.head()"
   ]
  },
  {
   "cell_type": "code",
   "execution_count": null,
   "metadata": {},
   "outputs": [],
   "source": []
  }
 ],
 "metadata": {
  "kernelspec": {
   "display_name": "Python 3",
   "language": "python",
   "name": "python3"
  },
  "language_info": {
   "codemirror_mode": {
    "name": "ipython",
    "version": 3
   },
   "file_extension": ".py",
   "mimetype": "text/x-python",
   "name": "python",
   "nbconvert_exporter": "python",
   "pygments_lexer": "ipython3",
   "version": "3.8.1-final"
  }
 },
 "nbformat": 4,
 "nbformat_minor": 4
}