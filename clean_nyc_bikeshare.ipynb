{
 "cells": [
  {
   "cell_type": "code",
   "execution_count": 2,
   "metadata": {},
   "outputs": [],
   "source": [
    "import pandas as pd\n",
    "import numpy as np\n",
    "import math\n",
    "import matplotlib as plt\n",
    "import pdpipe as pdp"
   ]
  },
  {
   "cell_type": "code",
   "execution_count": 24,
   "metadata": {},
   "outputs": [],
   "source": [
    "nyc_name = \"Data/nyc_bikeshare\"\n",
    "\n",
    "original_nyc = pd.read_csv(nyc_name+\".csv\")\n",
    "nyc = original_nyc\n",
    "nyc.head()"
   ]
  },
  {
   "cell_type": "code",
   "execution_count": null,
   "metadata": {},
   "outputs": [],
   "source": [
    "pipe = pdp.ColDrop(\"bikeid\")\n",
    "pipe += pdp.DropNa(subset=[\"start_station_id\",\"end_station_id\",\"tripduration\"])\n",
    "pipe += pdp.RowDrop({\"tripduration\": lambda t : t<60})\n",
    "\n",
    "nyc = pipe(nyc)\n",
    "nyc.head()"
   ]
  },
  {
   "cell_type": "code",
   "execution_count": 12,
   "metadata": {},
   "outputs": [
    {
     "data": {
      "text/html": "<div>\n<style scoped>\n    .dataframe tbody tr th:only-of-type {\n        vertical-align: middle;\n    }\n\n    .dataframe tbody tr th {\n        vertical-align: top;\n    }\n\n    .dataframe thead th {\n        text-align: right;\n    }\n</style>\n<table border=\"1\" class=\"dataframe\">\n  <thead>\n    <tr style=\"text-align: right;\">\n      <th></th>\n      <th>station_id</th>\n      <th>station_name</th>\n      <th>station_latitude</th>\n      <th>station_longitude</th>\n    </tr>\n  </thead>\n  <tbody>\n    <tr>\n      <th>0</th>\n      <td>72</td>\n      <td>W 52 St &amp; 11 Ave</td>\n      <td>40.767272</td>\n      <td>-73.993929</td>\n    </tr>\n    <tr>\n      <th>1</th>\n      <td>79</td>\n      <td>Franklin St &amp; W Broadway</td>\n      <td>40.719116</td>\n      <td>-74.006667</td>\n    </tr>\n    <tr>\n      <th>2</th>\n      <td>82</td>\n      <td>St James Pl &amp; Pearl St</td>\n      <td>40.711174</td>\n      <td>-74.000165</td>\n    </tr>\n    <tr>\n      <th>3</th>\n      <td>83</td>\n      <td>Atlantic Ave &amp; Fort Greene Pl</td>\n      <td>40.683826</td>\n      <td>-73.976323</td>\n    </tr>\n    <tr>\n      <th>4</th>\n      <td>116</td>\n      <td>W 17 St &amp; 8 Ave</td>\n      <td>40.741776</td>\n      <td>-74.001497</td>\n    </tr>\n  </tbody>\n</table>\n</div>",
      "text/plain": "   station_id                   station_name  station_latitude  \\\n0          72               W 52 St & 11 Ave         40.767272   \n1          79       Franklin St & W Broadway         40.719116   \n2          82         St James Pl & Pearl St         40.711174   \n3          83  Atlantic Ave & Fort Greene Pl         40.683826   \n4         116                W 17 St & 8 Ave         40.741776   \n\n   station_longitude  \n0         -73.993929  \n1         -74.006667  \n2         -74.000165  \n3         -73.976323  \n4         -74.001497  "
     },
     "execution_count": 12,
     "metadata": {},
     "output_type": "execute_result"
    }
   ],
   "source": [
    "nyc_name_key = \"Data/legend/nyc_bikeshare_key\"\n",
    "\n",
    "original_nyc_key = pd.read_csv(nyc_name_key+\".csv\")\n",
    "nyc_key = original_nyc_key\n",
    "nyc_key.head()"
   ]
  },
  {
   "cell_type": "code",
   "execution_count": 13,
   "metadata": {},
   "outputs": [
    {
     "data": {
      "text/html": "<div>\n<style scoped>\n    .dataframe tbody tr th:only-of-type {\n        vertical-align: middle;\n    }\n\n    .dataframe tbody tr th {\n        vertical-align: top;\n    }\n\n    .dataframe thead th {\n        text-align: right;\n    }\n</style>\n<table border=\"1\" class=\"dataframe\">\n  <thead>\n    <tr style=\"text-align: right;\">\n      <th></th>\n      <th>station_latitude</th>\n      <th>station_longitude</th>\n    </tr>\n    <tr>\n      <th>station_id</th>\n      <th></th>\n      <th></th>\n    </tr>\n  </thead>\n  <tbody>\n    <tr>\n      <th>72</th>\n      <td>40.767272</td>\n      <td>-73.993929</td>\n    </tr>\n    <tr>\n      <th>79</th>\n      <td>40.719116</td>\n      <td>-74.006667</td>\n    </tr>\n    <tr>\n      <th>82</th>\n      <td>40.711174</td>\n      <td>-74.000165</td>\n    </tr>\n    <tr>\n      <th>83</th>\n      <td>40.683826</td>\n      <td>-73.976323</td>\n    </tr>\n    <tr>\n      <th>116</th>\n      <td>40.741776</td>\n      <td>-74.001497</td>\n    </tr>\n  </tbody>\n</table>\n</div>",
      "text/plain": "            station_latitude  station_longitude\nstation_id                                     \n72                 40.767272         -73.993929\n79                 40.719116         -74.006667\n82                 40.711174         -74.000165\n83                 40.683826         -73.976323\n116                40.741776         -74.001497"
     },
     "execution_count": 13,
     "metadata": {},
     "output_type": "execute_result"
    }
   ],
   "source": [
    "nyc_key.set_index(\"station_id\", inplace=True)\n",
    "\n",
    "pipe_key = pdp.ColDrop(\"station_name\")\n",
    "\n",
    "nyc_key = pipe_key(nyc_key)\n",
    "nyc_key.head()"
   ]
  },
  {
   "cell_type": "code",
   "execution_count": 22,
   "metadata": {},
   "outputs": [
    {
     "data": {
      "text/html": "<div>\n<style scoped>\n    .dataframe tbody tr th:only-of-type {\n        vertical-align: middle;\n    }\n\n    .dataframe tbody tr th {\n        vertical-align: top;\n    }\n\n    .dataframe thead th {\n        text-align: right;\n    }\n</style>\n<table border=\"1\" class=\"dataframe\">\n  <thead>\n    <tr style=\"text-align: right;\">\n      <th></th>\n      <th>tripduration</th>\n      <th>starttime</th>\n      <th>stoptime</th>\n      <th>start_station_id</th>\n      <th>end_station_id</th>\n      <th>bikeid</th>\n      <th>usertype</th>\n      <th>birthyear</th>\n      <th>gender</th>\n    </tr>\n  </thead>\n  <tbody>\n    <tr>\n      <th>0</th>\n      <td>1712</td>\n      <td>11-30-11 23:58:00</td>\n      <td>12-01-11 00:26:00</td>\n      <td>D32005</td>\n      <td>D32011</td>\n      <td>B00056</td>\n      <td>1</td>\n      <td>NaN</td>\n      <td>1</td>\n    </tr>\n    <tr>\n      <th>1</th>\n      <td>313</td>\n      <td>11-30-11 23:56:00</td>\n      <td>12-01-11 00:01:00</td>\n      <td>C32008</td>\n      <td>D32011</td>\n      <td>B00133</td>\n      <td>0</td>\n      <td>NaN</td>\n      <td>0</td>\n    </tr>\n    <tr>\n      <th>2</th>\n      <td>1111</td>\n      <td>11-30-11 23:18:00</td>\n      <td>11-30-11 23:36:00</td>\n      <td>A32009</td>\n      <td>D32006</td>\n      <td>B00471</td>\n      <td>1</td>\n      <td>NaN</td>\n      <td>1</td>\n    </tr>\n    <tr>\n      <th>3</th>\n      <td>1313</td>\n      <td>11-30-11 23:15:00</td>\n      <td>11-30-11 23:37:00</td>\n      <td>A32001</td>\n      <td>D32005</td>\n      <td>B00056</td>\n      <td>1</td>\n      <td>NaN</td>\n      <td>1</td>\n    </tr>\n    <tr>\n      <th>4</th>\n      <td>345</td>\n      <td>11-30-11 22:59:00</td>\n      <td>11-30-11 23:05:00</td>\n      <td>B32008</td>\n      <td>D32006</td>\n      <td>B00174</td>\n      <td>1</td>\n      <td>NaN</td>\n      <td>1</td>\n    </tr>\n  </tbody>\n</table>\n</div>",
      "text/plain": "   tripduration          starttime           stoptime start_station_id  \\\n0          1712  11-30-11 23:58:00  12-01-11 00:26:00           D32005   \n1           313  11-30-11 23:56:00  12-01-11 00:01:00           C32008   \n2          1111  11-30-11 23:18:00  11-30-11 23:36:00           A32009   \n3          1313  11-30-11 23:15:00  11-30-11 23:37:00           A32001   \n4           345  11-30-11 22:59:00  11-30-11 23:05:00           B32008   \n\n  end_station_id  bikeid  usertype  birthyear  gender  \n0         D32011  B00056         1        NaN       1  \n1         D32011  B00133         0        NaN       0  \n2         D32006  B00471         1        NaN       1  \n3         D32005  B00056         1        NaN       1  \n4         D32006  B00174         1        NaN       1  "
     },
     "execution_count": 22,
     "metadata": {},
     "output_type": "execute_result"
    }
   ],
   "source": [
    "boston_name = \"Data/boston_bikeshare\"\n",
    "\n",
    "original_boston = pd.read_csv(boston_name+\".csv\")\n",
    "boston = original_boston\n",
    "boston.head()"
   ]
  },
  {
   "cell_type": "code",
   "execution_count": null,
   "metadata": {},
   "outputs": [],
   "source": [
    "boston = pipe(boston)\n",
    "boston.head()"
   ]
  },
  {
   "cell_type": "code",
   "execution_count": 23,
   "metadata": {},
   "outputs": [
    {
     "data": {
      "text/html": "<div>\n<style scoped>\n    .dataframe tbody tr th:only-of-type {\n        vertical-align: middle;\n    }\n\n    .dataframe tbody tr th {\n        vertical-align: top;\n    }\n\n    .dataframe thead th {\n        text-align: right;\n    }\n</style>\n<table border=\"1\" class=\"dataframe\">\n  <thead>\n    <tr style=\"text-align: right;\">\n      <th></th>\n      <th>station_latitude</th>\n      <th>station_longitude</th>\n      <th>district</th>\n      <th>status</th>\n    </tr>\n    <tr>\n      <th>station_id</th>\n      <th></th>\n      <th></th>\n      <th></th>\n      <th></th>\n    </tr>\n  </thead>\n  <tbody>\n    <tr>\n      <th>A32000</th>\n      <td>42.353391</td>\n      <td>-71.044571</td>\n      <td>Boston</td>\n      <td>Active</td>\n    </tr>\n    <tr>\n      <th>A32001</th>\n      <td>42.353334</td>\n      <td>-71.137313</td>\n      <td>Boston</td>\n      <td>Active</td>\n    </tr>\n    <tr>\n      <th>A32002</th>\n      <td>42.351692</td>\n      <td>-71.119035</td>\n      <td>Boston</td>\n      <td>Active</td>\n    </tr>\n    <tr>\n      <th>A32003</th>\n      <td>42.350406</td>\n      <td>-71.108279</td>\n      <td>Boston</td>\n      <td>Active</td>\n    </tr>\n    <tr>\n      <th>A32004</th>\n      <td>42.338629</td>\n      <td>-71.106500</td>\n      <td>Boston</td>\n      <td>Active</td>\n    </tr>\n  </tbody>\n</table>\n</div>",
      "text/plain": "            station_latitude  station_longitude district  status\nstation_id                                                      \nA32000             42.353391         -71.044571   Boston  Active\nA32001             42.353334         -71.137313   Boston  Active\nA32002             42.351692         -71.119035   Boston  Active\nA32003             42.350406         -71.108279   Boston  Active\nA32004             42.338629         -71.106500   Boston  Active"
     },
     "execution_count": 23,
     "metadata": {},
     "output_type": "execute_result"
    }
   ],
   "source": [
    "boston_name_key = \"Data/legend/boston_bikeshare_key\"\n",
    "\n",
    "original_boston_key = pd.read_csv(boston_name_key+\".csv\")\n",
    "boston_key = original_boston_key\n",
    "\n",
    "boston_key.set_index(\"station_id\", inplace=True)\n",
    "\n",
    "boston_key = pipe_key(boston_key)\n",
    "\n",
    "boston_key_pipe = pdp.ColDrop(\"total_docks\")\n",
    "boston_key_pipe += pdp.RowDrop({\"status\": lambda s: s!=\"Active\"})\n",
    "\n",
    "boston_key = bos_key_pipe(boston_key)\n",
    "boston_key.head()"
   ]
  },
  {
   "cell_type": "code",
   "execution_count": null,
   "metadata": {},
   "outputs": [],
   "source": []
  }
 ],
 "metadata": {
  "kernelspec": {
   "display_name": "Python 3",
   "language": "python",
   "name": "python3"
  },
  "language_info": {
   "codemirror_mode": {
    "name": "ipython",
    "version": 3
   },
   "file_extension": ".py",
   "mimetype": "text/x-python",
   "name": "python",
   "nbconvert_exporter": "python",
   "pygments_lexer": "ipython3",
   "version": "3.8.1-final"
  }
 },
 "nbformat": 4,
 "nbformat_minor": 4
}