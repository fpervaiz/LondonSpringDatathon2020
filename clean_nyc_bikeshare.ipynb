{
 "cells": [
  {
   "cell_type": "code",
   "execution_count": null,
   "metadata": {},
   "outputs": [],
   "source": [
    "nyc_name = \"Data/nyc_bikeshare\"\n",
    "\n",
    "original_nyc = pd.read_csv(nyc_name+\".csv\")\n",
    "nyc = original_nyc\n",
    "nyc.head()"
   ]
  },
  {
   "cell_type": "code",
   "execution_count": 3,
   "metadata": {},
   "outputs": [],
   "source": [
    "import pandas as pd\n",
    "import numpy as np\n",
    "import math\n",
    "import matplotlib as plt\n",
    "import pdpipe as pdp\n",
    "from random import *"
   ]
  },
  {
   "cell_type": "code",
   "execution_count": null,
   "metadata": {},
   "outputs": [],
   "source": [
    "nyc_sub = nyc.sample(1000)"
   ]
  },
  {
   "cell_type": "code",
   "execution_count": null,
   "metadata": {},
   "outputs": [],
   "source": [
    "pipe = pdp.ColDrop(\"bikeid\")\n",
    "pipe += pdp.DropNa(subset=[\"start_station_id\",\"end_station_id\",\"tripduration\"])\n",
    "pipe += pdp.RowDrop({\"tripduration\": lambda t : t<60})\n",
    "\n",
    "nyc = pipe(nyc)\n",
    "nyc.head()"
   ]
  },
  {
   "cell_type": "code",
   "execution_count": null,
   "metadata": {},
   "outputs": [],
   "source": [
    "nyc_name_key = \"Data/legend/nyc_bikeshare_key\"\n",
    "\n",
    "original_nyc_key = pd.read_csv(nyc_name_key+\".csv\")\n",
    "nyc_key = original_nyc_key\n",
    "nyc_key.head()"
   ]
  },
  {
   "cell_type": "code",
   "execution_count": null,
   "metadata": {},
   "outputs": [],
   "source": [
    "nyc_key.set_index(\"station_id\", inplace=True)\n",
    "\n",
    "pipe_key = pdp.ColDrop(\"station_name\")\n",
    "\n",
    "nyc_key = pipe_key(nyc_key)\n",
    "nyc_key.head()"
   ]
  },
  {
   "cell_type": "code",
   "execution_count": null,
   "metadata": {},
   "outputs": [],
   "source": [
    "boston_name = \"Data/boston_bikeshare\"\n",
    "\n",
    "original_boston = pd.read_csv(boston_name+\".csv\")\n",
    "boston = original_boston\n",
    "boston.head()"
   ]
  },
  {
   "cell_type": "code",
   "execution_count": null,
   "metadata": {},
   "outputs": [],
   "source": [
    "boston = pipe(boston)\n",
    "boston.head()"
   ]
  },
  {
   "cell_type": "code",
   "execution_count": null,
   "metadata": {},
   "outputs": [],
   "source": [
    "boston_name_key = \"Data/legend/boston_bikeshare_key\"\n",
    "\n",
    "original_boston_key = pd.read_csv(boston_name_key+\".csv\")\n",
    "boston_key = original_boston_key\n",
    "\n",
    "boston_key.set_index(\"station_id\", inplace=True)\n",
    "\n",
    "boston_key = pipe_key(boston_key)\n",
    "\n",
    "boston_key_pipe = pdp.ColDrop(\"total_docks\")\n",
    "boston_key_pipe += pdp.RowDrop({\"status\": lambda s: s!=\"Active\"})\n",
    "\n",
    "boston_key = bos_key_pipe(boston_key)\n",
    "boston_key.head()"
   ]
  },
  {
   "cell_type": "code",
   "execution_count": null,
   "metadata": {},
   "outputs": [],
   "source": []
  }
 ],
 "metadata": {
  "kernelspec": {
   "display_name": "Python 3",
   "language": "python",
   "name": "python3"
  },
  "language_info": {
   "codemirror_mode": {
    "name": "ipython",
    "version": 3
   },
   "file_extension": ".py",
   "mimetype": "text/x-python",
   "name": "python",
   "nbconvert_exporter": "python",
   "pygments_lexer": "ipython3",
   "version": "3.8.1-final"
  }
 },
 "nbformat": 4,
 "nbformat_minor": 4
}