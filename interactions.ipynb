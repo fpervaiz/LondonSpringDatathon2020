{
 "cells": [
  {
   "cell_type": "code",
   "execution_count": 57,
   "metadata": {},
   "outputs": [],
   "source": [
    "import numpy as np\n",
    "import pandas as pd\n",
    "\n",
    "import matplotlib.pyplot as plt\n",
    "import seaborn as sns"
   ]
  },
  {
   "cell_type": "code",
   "execution_count": 38,
   "metadata": {},
   "outputs": [],
   "source": [
    "I = pd.read_csv('nta_interactions.csv', header=None) # Interaction matrix"
   ]
  },
  {
   "cell_type": "code",
   "execution_count": 39,
   "metadata": {},
   "outputs": [
    {
     "data": {
      "text/html": [
       "<div>\n",
       "<style scoped>\n",
       "    .dataframe tbody tr th:only-of-type {\n",
       "        vertical-align: middle;\n",
       "    }\n",
       "\n",
       "    .dataframe tbody tr th {\n",
       "        vertical-align: top;\n",
       "    }\n",
       "\n",
       "    .dataframe thead th {\n",
       "        text-align: right;\n",
       "    }\n",
       "</style>\n",
       "<table border=\"1\" class=\"dataframe\">\n",
       "  <thead>\n",
       "    <tr style=\"text-align: right;\">\n",
       "      <th></th>\n",
       "      <th>0</th>\n",
       "      <th>1</th>\n",
       "      <th>2</th>\n",
       "      <th>3</th>\n",
       "      <th>4</th>\n",
       "      <th>5</th>\n",
       "      <th>6</th>\n",
       "      <th>7</th>\n",
       "      <th>8</th>\n",
       "      <th>9</th>\n",
       "      <th>...</th>\n",
       "      <th>44</th>\n",
       "      <th>45</th>\n",
       "      <th>46</th>\n",
       "      <th>47</th>\n",
       "      <th>48</th>\n",
       "      <th>49</th>\n",
       "      <th>50</th>\n",
       "      <th>51</th>\n",
       "      <th>52</th>\n",
       "      <th>53</th>\n",
       "    </tr>\n",
       "  </thead>\n",
       "  <tbody>\n",
       "    <tr>\n",
       "      <th>0</th>\n",
       "      <td>179654</td>\n",
       "      <td>36351</td>\n",
       "      <td>6627</td>\n",
       "      <td>839</td>\n",
       "      <td>230537</td>\n",
       "      <td>96</td>\n",
       "      <td>63895</td>\n",
       "      <td>218702</td>\n",
       "      <td>785</td>\n",
       "      <td>1376</td>\n",
       "      <td>...</td>\n",
       "      <td>62</td>\n",
       "      <td>3</td>\n",
       "      <td>336</td>\n",
       "      <td>73</td>\n",
       "      <td>358</td>\n",
       "      <td>5</td>\n",
       "      <td>3</td>\n",
       "      <td>3</td>\n",
       "      <td>0</td>\n",
       "      <td>0</td>\n",
       "    </tr>\n",
       "    <tr>\n",
       "      <th>1</th>\n",
       "      <td>34237</td>\n",
       "      <td>509143</td>\n",
       "      <td>149024</td>\n",
       "      <td>9204</td>\n",
       "      <td>212645</td>\n",
       "      <td>2627</td>\n",
       "      <td>319357</td>\n",
       "      <td>59728</td>\n",
       "      <td>16683</td>\n",
       "      <td>47538</td>\n",
       "      <td>...</td>\n",
       "      <td>10</td>\n",
       "      <td>2</td>\n",
       "      <td>67</td>\n",
       "      <td>21</td>\n",
       "      <td>99</td>\n",
       "      <td>78</td>\n",
       "      <td>170</td>\n",
       "      <td>184</td>\n",
       "      <td>0</td>\n",
       "      <td>0</td>\n",
       "    </tr>\n",
       "    <tr>\n",
       "      <th>2</th>\n",
       "      <td>5270</td>\n",
       "      <td>154473</td>\n",
       "      <td>145824</td>\n",
       "      <td>8399</td>\n",
       "      <td>49086</td>\n",
       "      <td>2792</td>\n",
       "      <td>90437</td>\n",
       "      <td>21447</td>\n",
       "      <td>5566</td>\n",
       "      <td>25100</td>\n",
       "      <td>...</td>\n",
       "      <td>0</td>\n",
       "      <td>0</td>\n",
       "      <td>12</td>\n",
       "      <td>2</td>\n",
       "      <td>44</td>\n",
       "      <td>80</td>\n",
       "      <td>79</td>\n",
       "      <td>237</td>\n",
       "      <td>0</td>\n",
       "      <td>0</td>\n",
       "    </tr>\n",
       "    <tr>\n",
       "      <th>3</th>\n",
       "      <td>644</td>\n",
       "      <td>9637</td>\n",
       "      <td>7696</td>\n",
       "      <td>140658</td>\n",
       "      <td>4475</td>\n",
       "      <td>16851</td>\n",
       "      <td>5486</td>\n",
       "      <td>2570</td>\n",
       "      <td>13391</td>\n",
       "      <td>72542</td>\n",
       "      <td>...</td>\n",
       "      <td>6</td>\n",
       "      <td>0</td>\n",
       "      <td>2</td>\n",
       "      <td>0</td>\n",
       "      <td>29</td>\n",
       "      <td>343</td>\n",
       "      <td>547</td>\n",
       "      <td>304</td>\n",
       "      <td>3</td>\n",
       "      <td>1</td>\n",
       "    </tr>\n",
       "    <tr>\n",
       "      <th>4</th>\n",
       "      <td>200358</td>\n",
       "      <td>223275</td>\n",
       "      <td>55865</td>\n",
       "      <td>4990</td>\n",
       "      <td>1137283</td>\n",
       "      <td>1104</td>\n",
       "      <td>486105</td>\n",
       "      <td>419601</td>\n",
       "      <td>3480</td>\n",
       "      <td>9601</td>\n",
       "      <td>...</td>\n",
       "      <td>73</td>\n",
       "      <td>18</td>\n",
       "      <td>444</td>\n",
       "      <td>163</td>\n",
       "      <td>486</td>\n",
       "      <td>10</td>\n",
       "      <td>28</td>\n",
       "      <td>82</td>\n",
       "      <td>0</td>\n",
       "      <td>0</td>\n",
       "    </tr>\n",
       "  </tbody>\n",
       "</table>\n",
       "<p>5 rows × 54 columns</p>\n",
       "</div>"
      ],
      "text/plain": [
       "       0       1       2       3        4      5       6       7      8   \\\n",
       "0  179654   36351    6627     839   230537     96   63895  218702    785   \n",
       "1   34237  509143  149024    9204   212645   2627  319357   59728  16683   \n",
       "2    5270  154473  145824    8399    49086   2792   90437   21447   5566   \n",
       "3     644    9637    7696  140658     4475  16851    5486    2570  13391   \n",
       "4  200358  223275   55865    4990  1137283   1104  486105  419601   3480   \n",
       "\n",
       "      9   ...  44  45   46   47   48   49   50   51  52  53  \n",
       "0   1376  ...  62   3  336   73  358    5    3    3   0   0  \n",
       "1  47538  ...  10   2   67   21   99   78  170  184   0   0  \n",
       "2  25100  ...   0   0   12    2   44   80   79  237   0   0  \n",
       "3  72542  ...   6   0    2    0   29  343  547  304   3   1  \n",
       "4   9601  ...  73  18  444  163  486   10   28   82   0   0  \n",
       "\n",
       "[5 rows x 54 columns]"
      ]
     },
     "execution_count": 39,
     "metadata": {},
     "output_type": "execute_result"
    }
   ],
   "source": [
    "I.head()"
   ]
  },
  {
   "cell_type": "code",
   "execution_count": 60,
   "metadata": {},
   "outputs": [
    {
     "data": {
      "text/plain": [
       "<matplotlib.axes._subplots.AxesSubplot at 0x7fec9259df60>"
      ]
     },
     "execution_count": 60,
     "metadata": {},
     "output_type": "execute_result"
    },
    {
     "data": {
      "image/png": "[encoded data removed]",
      "text/plain": [
       "<Figure size 1152x936 with 2 Axes>"
      ]
     },
     "metadata": {
      "needs_background": "light"
     },
     "output_type": "display_data"
    }
   ],
   "source": [
    "plt.figure(figsize=(16, 13))\n",
    "sns.heatmap(np.log(I+1), cmap= 'coolwarm')"
   ]
  },
  {
   "cell_type": "code",
   "execution_count": 40,
   "metadata": {},
   "outputs": [],
   "source": [
    "I = I.reset_index().rename(columns={'index': 'from'})"
   ]
  },
  {
   "cell_type": "code",
   "execution_count": 41,
   "metadata": {},
   "outputs": [],
   "source": [
    "long_form = pd.melt(I, id_vars='from', var_name='to')"
   ]
  },
  {
   "cell_type": "code",
   "execution_count": 42,
   "metadata": {},
   "outputs": [
    {
     "data": {
      "text/html": [
       "<div>\n",
       "<style scoped>\n",
       "    .dataframe tbody tr th:only-of-type {\n",
       "        vertical-align: middle;\n",
       "    }\n",
       "\n",
       "    .dataframe tbody tr th {\n",
       "        vertical-align: top;\n",
       "    }\n",
       "\n",
       "    .dataframe thead th {\n",
       "        text-align: right;\n",
       "    }\n",
       "</style>\n",
       "<table border=\"1\" class=\"dataframe\">\n",
       "  <thead>\n",
       "    <tr style=\"text-align: right;\">\n",
       "      <th></th>\n",
       "      <th>from</th>\n",
       "      <th>to</th>\n",
       "      <th>value</th>\n",
       "    </tr>\n",
       "  </thead>\n",
       "  <tbody>\n",
       "    <tr>\n",
       "      <th>0</th>\n",
       "      <td>0</td>\n",
       "      <td>0</td>\n",
       "      <td>179654</td>\n",
       "    </tr>\n",
       "    <tr>\n",
       "      <th>1</th>\n",
       "      <td>1</td>\n",
       "      <td>0</td>\n",
       "      <td>34237</td>\n",
       "    </tr>\n",
       "    <tr>\n",
       "      <th>2</th>\n",
       "      <td>2</td>\n",
       "      <td>0</td>\n",
       "      <td>5270</td>\n",
       "    </tr>\n",
       "    <tr>\n",
       "      <th>3</th>\n",
       "      <td>3</td>\n",
       "      <td>0</td>\n",
       "      <td>644</td>\n",
       "    </tr>\n",
       "    <tr>\n",
       "      <th>4</th>\n",
       "      <td>4</td>\n",
       "      <td>0</td>\n",
       "      <td>200358</td>\n",
       "    </tr>\n",
       "  </tbody>\n",
       "</table>\n",
       "</div>"
      ],
      "text/plain": [
       "   from to   value\n",
       "0     0  0  179654\n",
       "1     1  0   34237\n",
       "2     2  0    5270\n",
       "3     3  0     644\n",
       "4     4  0  200358"
      ]
     },
     "execution_count": 42,
     "metadata": {},
     "output_type": "execute_result"
    }
   ],
   "source": [
    "long_form.head()"
   ]
  },
  {
   "cell_type": "code",
   "execution_count": null,
   "metadata": {},
   "outputs": [],
   "source": []
  }
 ],
 "metadata": {
  "kernelspec": {
   "display_name": "Python 3",
   "language": "python",
   "name": "python3"
  },
  "language_info": {
   "codemirror_mode": {
    "name": "ipython",
    "version": 3
   },
   "file_extension": ".py",
   "mimetype": "text/x-python",
   "name": "python",
   "nbconvert_exporter": "python",
   "pygments_lexer": "ipython3",
   "version": "3.6.8"
  }
 },
 "nbformat": 4,
 "nbformat_minor": 4
}
